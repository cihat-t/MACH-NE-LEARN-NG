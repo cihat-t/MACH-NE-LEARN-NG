{
 "cells": [
  {
   "cell_type": "code",
   "execution_count": 6,
   "metadata": {
    "colab": {
     "base_uri": "https://localhost:8080/"
    },
    "id": "wdXp1ciNqPOc",
    "outputId": "d6b0c836-1c54-4a85-cdb1-90a5d9419e07",
    "scrolled": true
   },
   "outputs": [
    {
     "name": "stdout",
     "output_type": "stream",
     "text": [
      "Collecting pyforest\n",
      "  Downloading pyforest-1.1.0.tar.gz (15 kB)\n",
      "Building wheels for collected packages: pyforest\n",
      "  Building wheel for pyforest (setup.py): started\n",
      "  Building wheel for pyforest (setup.py): finished with status 'done'\n",
      "  Created wheel for pyforest: filename=pyforest-1.1.0-py2.py3-none-any.whl size=14606 sha256=628333599a7e4c4f30fe99af796e546f2fe7aa362d70f2424d1ef58804fa8362\n",
      "  Stored in directory: c:\\users\\asus\\appdata\\local\\pip\\cache\\wheels\\21\\2d\\19\\8b5488f0caea6d892333413745640532d40d70e6b5351d7633\n",
      "Successfully built pyforest\n",
      "Installing collected packages: pyforest\n",
      "Successfully installed pyforest-1.1.0\n"
     ]
    }
   ],
   "source": [
    "#!pip install pyforest\n"
   ]
  },
  {
   "cell_type": "code",
   "execution_count": 8,
   "metadata": {},
   "outputs": [
    {
     "name": "stdout",
     "output_type": "stream",
     "text": [
      "Collecting xgboost\n",
      "  Downloading xgboost-1.5.0-py3-none-win_amd64.whl (106.6 MB)\n",
      "Requirement already satisfied: scipy in c:\\users\\asus\\anaconda3\\lib\\site-packages (from xgboost) (1.6.2)\n",
      "Requirement already satisfied: numpy in c:\\users\\asus\\anaconda3\\lib\\site-packages (from xgboost) (1.19.5)\n",
      "Installing collected packages: xgboost\n",
      "Successfully installed xgboost-1.5.0\n"
     ]
    }
   ],
   "source": [
    "#!pip install xgboost"
   ]
  },
  {
   "cell_type": "markdown",
   "metadata": {
    "id": "Iv2HTv6TqJlR"
   },
   "source": [
    "The 2012 US Army Anthropometric Survey (ANSUR II) was executed by the Natick Soldier Research, Development and Engineering Center (NSRDEC) from October 2010 to April 2012 and is comprised of personnel representing the total US Army force to include the US Army Active Duty, Reserves, and National Guard. In addition to the anthropometric and demographic data described below, the ANSUR II database also consists of 3D whole body, foot, and head scans of Soldier participants. These 3D data are not publicly available out of respect for the privacy of ANSUR II participants. The data from this survey are used for a wide range of equipment design, sizing, and tariffing applications within the military and has many potential commercial, industrial, and academic applications.\n",
    "\n",
    "The ANSUR II working databases contain 93 anthropometric measurements which were directly measured, and 15 demographic/administrative variables explained below. The ANSUR II Male working database contains a total sample of 4,082 subjects. The ANSUR II Female working database contains a total sample of 1,986 subjects.\n",
    "\n",
    "\n",
    "data dict:\n",
    "https://data.world/datamil/ansur-ii-data-dictionary/workspace/file?filename=ANSUR+II+Databases+Overview.pdf\n"
   ]
  },
  {
   "cell_type": "markdown",
   "metadata": {},
   "source": [
    "# Import libraries"
   ]
  },
  {
   "cell_type": "code",
   "execution_count": 9,
   "metadata": {
    "id": "QwO25CF0qhwb"
   },
   "outputs": [],
   "source": [
    "import pyforest\n",
    "import warnings\n",
    "warnings.filterwarnings('ignore')\n",
    "from sklearn.preprocessing import MinMaxScaler\n",
    "from sklearn.linear_model import LogisticRegression\n",
    "from sklearn.model_selection import cross_val_score, cross_validate\n",
    "from sklearn.metrics import accuracy_score, f1_score, recall_score, precision_score\n",
    "from sklearn.metrics import make_scorer\n",
    "from sklearn.metrics import classification_report,confusion_matrix,plot_confusion_matrix\n",
    "from sklearn.model_selection import GridSearchCV\n",
    "from sklearn.metrics import roc_curve, auc\n",
    "from sklearn.svm import SVC\n",
    "from sklearn.ensemble import RandomForestClassifier\n",
    "from xgboost import XGBClassifier"
   ]
  },
  {
   "cell_type": "code",
   "execution_count": 10,
   "metadata": {},
   "outputs": [],
   "source": [
    "def plot_multiclass_roc(clf, X_test, y_test, n_classes, figsize=(5,5)):\n",
    "    y_score = clf.decision_function(X_test)\n",
    "\n",
    "    # structures\n",
    "    fpr = dict()\n",
    "    tpr = dict()\n",
    "    roc_auc = dict()\n",
    "\n",
    "    # calculate dummies once\n",
    "    y_test_dummies = pd.get_dummies(y_test, drop_first=False).values\n",
    "    for i in range(n_classes):\n",
    "        fpr[i], tpr[i], _ = roc_curve(y_test_dummies[:, i], y_score[:, i])\n",
    "        roc_auc[i] = auc(fpr[i], tpr[i])\n",
    "\n",
    "    # roc for each class\n",
    "    fig, ax = plt.subplots(figsize=figsize)\n",
    "    ax.plot([0, 1], [0, 1], 'k--')\n",
    "    ax.set_xlim([0.0, 1.0])\n",
    "    ax.set_ylim([0.0, 1.05])\n",
    "    ax.set_xlabel('False Positive Rate')\n",
    "    ax.set_ylabel('True Positive Rate')\n",
    "    ax.set_title('Receiver operating characteristic example')\n",
    "    for i in range(n_classes):\n",
    "        ax.plot(fpr[i], tpr[i], label='ROC curve (area = %0.2f) for label %i' % (roc_auc[i], i))\n",
    "    ax.legend(loc=\"best\")\n",
    "    ax.grid(alpha=.4)\n",
    "    sns.despine()\n",
    "    plt.show()"
   ]
  },
  {
   "cell_type": "code",
   "execution_count": 11,
   "metadata": {},
   "outputs": [],
   "source": [
    "def plot_multiclass_roc_for_tree(clf, X_test, y_test, n_classes, figsize=(5,5)):\n",
    "    y_score = clf.predict_proba(X_test)\n",
    "\n",
    "    # structures\n",
    "    fpr = dict()\n",
    "    tpr = dict()\n",
    "    roc_auc = dict()\n",
    "\n",
    "    # calculate dummies once\n",
    "    y_test_dummies = pd.get_dummies(y_test, drop_first=False).values\n",
    "    for i in range(n_classes):\n",
    "        fpr[i], tpr[i], _ = roc_curve(y_test_dummies[:, i], y_score[:, i])\n",
    "        roc_auc[i] = auc(fpr[i], tpr[i])\n",
    "\n",
    "    # roc for each class\n",
    "    fig, ax = plt.subplots(figsize=figsize)\n",
    "    ax.plot([0, 1], [0, 1], 'k--')\n",
    "    ax.set_xlim([0.0, 1.0])\n",
    "    ax.set_ylim([0.0, 1.05])\n",
    "    ax.set_xlabel('False Positive Rate')\n",
    "    ax.set_ylabel('True Positive Rate')\n",
    "    ax.set_title('Receiver operating characteristic example')\n",
    "    for i in range(n_classes):\n",
    "        ax.plot(fpr[i], tpr[i], label='ROC curve (area = %0.2f) for label %i' % (roc_auc[i], i))\n",
    "    ax.legend(loc=\"best\")\n",
    "    ax.grid(alpha=.4)\n",
    "    sns.despine()\n",
    "    plt.show()"
   ]
  },
  {
   "cell_type": "markdown",
   "metadata": {},
   "source": [
    "# Ingest Data from links below and make a dataframe\n",
    "- Soldiers Male : https://query.data.world/s/h3pbhckz5ck4rc7qmt2wlknlnn7esr\n",
    "- Soldiers Female : https://query.data.world/s/sq27zz4hawg32yfxksqwijxmpwmynq"
   ]
  },
  {
   "cell_type": "code",
   "execution_count": 12,
   "metadata": {
    "colab": {
     "base_uri": "https://localhost:8080/",
     "height": 17
    },
    "id": "tG5BsWraqX_y",
    "outputId": "a6e730fa-6848-4cfc-becb-284fc8cc99e5"
   },
   "outputs": [
    {
     "data": {
      "application/javascript": [
       "\n",
       "        if (window._pyforest_update_imports_cell) { window._pyforest_update_imports_cell('import pandas as pd'); }\n",
       "    "
      ],
      "text/plain": [
       "<IPython.core.display.Javascript object>"
      ]
     },
     "metadata": {},
     "output_type": "display_data"
    }
   ],
   "source": [
    "df_male = pd.read_csv('https://query.data.world/s/h3pbhckz5ck4rc7qmt2wlknlnn7esr',encoding='latin-1')"
   ]
  },
  {
   "cell_type": "code",
   "execution_count": 13,
   "metadata": {
    "colab": {
     "base_uri": "https://localhost:8080/",
     "height": 17
    },
    "id": "KnQL8KASqfyT",
    "outputId": "d39027eb-f7be-4084-8588-86b7371a9593"
   },
   "outputs": [
    {
     "data": {
      "application/javascript": [
       "\n",
       "        if (window._pyforest_update_imports_cell) { window._pyforest_update_imports_cell('import pandas as pd'); }\n",
       "    "
      ],
      "text/plain": [
       "<IPython.core.display.Javascript object>"
      ]
     },
     "metadata": {},
     "output_type": "display_data"
    }
   ],
   "source": [
    "df_female= pd.read_csv('https://query.data.world/s/sq27zz4hawg32yfxksqwijxmpwmynq')"
   ]
  },
  {
   "cell_type": "markdown",
   "metadata": {
    "id": "Y5-Kay1Eqvdj"
   },
   "source": [
    "# EDA\n",
    "- Drop unnecessary colums\n",
    "- Drop DODRace class if value count below 500 (we assume that our data model can't learn if it is below 500)\n",
    "- Find unusual value in Weightlbs"
   ]
  },
  {
   "cell_type": "code",
   "execution_count": 14,
   "metadata": {
    "colab": {
     "base_uri": "https://localhost:8080/",
     "height": 423
    },
    "id": "Y93mBzEErLDL",
    "outputId": "b48210c7-1034-488e-ad02-193124bba665"
   },
   "outputs": [
    {
     "data": {
      "text/html": [
       "<div>\n",
       "<style scoped>\n",
       "    .dataframe tbody tr th:only-of-type {\n",
       "        vertical-align: middle;\n",
       "    }\n",
       "\n",
       "    .dataframe tbody tr th {\n",
       "        vertical-align: top;\n",
       "    }\n",
       "\n",
       "    .dataframe thead th {\n",
       "        text-align: right;\n",
       "    }\n",
       "</style>\n",
       "<table border=\"1\" class=\"dataframe\">\n",
       "  <thead>\n",
       "    <tr style=\"text-align: right;\">\n",
       "      <th></th>\n",
       "      <th>subjectid</th>\n",
       "      <th>abdominalextensiondepthsitting</th>\n",
       "      <th>acromialheight</th>\n",
       "      <th>acromionradialelength</th>\n",
       "      <th>anklecircumference</th>\n",
       "      <th>axillaheight</th>\n",
       "      <th>balloffootcircumference</th>\n",
       "      <th>balloffootlength</th>\n",
       "      <th>biacromialbreadth</th>\n",
       "      <th>bicepscircumferenceflexed</th>\n",
       "      <th>...</th>\n",
       "      <th>Branch</th>\n",
       "      <th>PrimaryMOS</th>\n",
       "      <th>SubjectsBirthLocation</th>\n",
       "      <th>SubjectNumericRace</th>\n",
       "      <th>Ethnicity</th>\n",
       "      <th>DODRace</th>\n",
       "      <th>Age</th>\n",
       "      <th>Heightin</th>\n",
       "      <th>Weightlbs</th>\n",
       "      <th>WritingPreference</th>\n",
       "    </tr>\n",
       "  </thead>\n",
       "  <tbody>\n",
       "    <tr>\n",
       "      <th>0</th>\n",
       "      <td>10027</td>\n",
       "      <td>266</td>\n",
       "      <td>1467</td>\n",
       "      <td>337</td>\n",
       "      <td>222</td>\n",
       "      <td>1347</td>\n",
       "      <td>253</td>\n",
       "      <td>202</td>\n",
       "      <td>401</td>\n",
       "      <td>369</td>\n",
       "      <td>...</td>\n",
       "      <td>Combat Arms</td>\n",
       "      <td>19D</td>\n",
       "      <td>North Dakota</td>\n",
       "      <td>1</td>\n",
       "      <td>NaN</td>\n",
       "      <td>1</td>\n",
       "      <td>41</td>\n",
       "      <td>71</td>\n",
       "      <td>180</td>\n",
       "      <td>Right hand</td>\n",
       "    </tr>\n",
       "    <tr>\n",
       "      <th>1</th>\n",
       "      <td>10032</td>\n",
       "      <td>233</td>\n",
       "      <td>1395</td>\n",
       "      <td>326</td>\n",
       "      <td>220</td>\n",
       "      <td>1293</td>\n",
       "      <td>245</td>\n",
       "      <td>193</td>\n",
       "      <td>394</td>\n",
       "      <td>338</td>\n",
       "      <td>...</td>\n",
       "      <td>Combat Support</td>\n",
       "      <td>68W</td>\n",
       "      <td>New York</td>\n",
       "      <td>1</td>\n",
       "      <td>NaN</td>\n",
       "      <td>1</td>\n",
       "      <td>35</td>\n",
       "      <td>68</td>\n",
       "      <td>160</td>\n",
       "      <td>Left hand</td>\n",
       "    </tr>\n",
       "    <tr>\n",
       "      <th>2</th>\n",
       "      <td>10033</td>\n",
       "      <td>287</td>\n",
       "      <td>1430</td>\n",
       "      <td>341</td>\n",
       "      <td>230</td>\n",
       "      <td>1327</td>\n",
       "      <td>256</td>\n",
       "      <td>196</td>\n",
       "      <td>427</td>\n",
       "      <td>408</td>\n",
       "      <td>...</td>\n",
       "      <td>Combat Support</td>\n",
       "      <td>68W</td>\n",
       "      <td>New York</td>\n",
       "      <td>2</td>\n",
       "      <td>NaN</td>\n",
       "      <td>2</td>\n",
       "      <td>42</td>\n",
       "      <td>68</td>\n",
       "      <td>205</td>\n",
       "      <td>Left hand</td>\n",
       "    </tr>\n",
       "    <tr>\n",
       "      <th>3</th>\n",
       "      <td>10092</td>\n",
       "      <td>234</td>\n",
       "      <td>1347</td>\n",
       "      <td>310</td>\n",
       "      <td>230</td>\n",
       "      <td>1239</td>\n",
       "      <td>262</td>\n",
       "      <td>199</td>\n",
       "      <td>401</td>\n",
       "      <td>359</td>\n",
       "      <td>...</td>\n",
       "      <td>Combat Service Support</td>\n",
       "      <td>88M</td>\n",
       "      <td>Wisconsin</td>\n",
       "      <td>1</td>\n",
       "      <td>NaN</td>\n",
       "      <td>1</td>\n",
       "      <td>31</td>\n",
       "      <td>66</td>\n",
       "      <td>175</td>\n",
       "      <td>Right hand</td>\n",
       "    </tr>\n",
       "    <tr>\n",
       "      <th>4</th>\n",
       "      <td>10093</td>\n",
       "      <td>250</td>\n",
       "      <td>1585</td>\n",
       "      <td>372</td>\n",
       "      <td>247</td>\n",
       "      <td>1478</td>\n",
       "      <td>267</td>\n",
       "      <td>224</td>\n",
       "      <td>435</td>\n",
       "      <td>356</td>\n",
       "      <td>...</td>\n",
       "      <td>Combat Service Support</td>\n",
       "      <td>92G</td>\n",
       "      <td>North Carolina</td>\n",
       "      <td>2</td>\n",
       "      <td>NaN</td>\n",
       "      <td>2</td>\n",
       "      <td>21</td>\n",
       "      <td>77</td>\n",
       "      <td>213</td>\n",
       "      <td>Right hand</td>\n",
       "    </tr>\n",
       "  </tbody>\n",
       "</table>\n",
       "<p>5 rows × 108 columns</p>\n",
       "</div>"
      ],
      "text/plain": [
       "   subjectid  abdominalextensiondepthsitting  acromialheight  \\\n",
       "0      10027                             266            1467   \n",
       "1      10032                             233            1395   \n",
       "2      10033                             287            1430   \n",
       "3      10092                             234            1347   \n",
       "4      10093                             250            1585   \n",
       "\n",
       "   acromionradialelength  anklecircumference  axillaheight  \\\n",
       "0                    337                 222          1347   \n",
       "1                    326                 220          1293   \n",
       "2                    341                 230          1327   \n",
       "3                    310                 230          1239   \n",
       "4                    372                 247          1478   \n",
       "\n",
       "   balloffootcircumference  balloffootlength  biacromialbreadth  \\\n",
       "0                      253               202                401   \n",
       "1                      245               193                394   \n",
       "2                      256               196                427   \n",
       "3                      262               199                401   \n",
       "4                      267               224                435   \n",
       "\n",
       "   bicepscircumferenceflexed  ...                  Branch  PrimaryMOS  \\\n",
       "0                        369  ...             Combat Arms         19D   \n",
       "1                        338  ...          Combat Support         68W   \n",
       "2                        408  ...          Combat Support         68W   \n",
       "3                        359  ...  Combat Service Support         88M   \n",
       "4                        356  ...  Combat Service Support         92G   \n",
       "\n",
       "   SubjectsBirthLocation  SubjectNumericRace  Ethnicity  DODRace  Age  \\\n",
       "0           North Dakota                   1        NaN        1   41   \n",
       "1               New York                   1        NaN        1   35   \n",
       "2               New York                   2        NaN        2   42   \n",
       "3              Wisconsin                   1        NaN        1   31   \n",
       "4         North Carolina                   2        NaN        2   21   \n",
       "\n",
       "   Heightin  Weightlbs  WritingPreference  \n",
       "0        71        180         Right hand  \n",
       "1        68        160          Left hand  \n",
       "2        68        205          Left hand  \n",
       "3        66        175         Right hand  \n",
       "4        77        213         Right hand  \n",
       "\n",
       "[5 rows x 108 columns]"
      ]
     },
     "execution_count": 14,
     "metadata": {},
     "output_type": "execute_result"
    }
   ],
   "source": [
    "df_male.head()"
   ]
  },
  {
   "cell_type": "code",
   "execution_count": 15,
   "metadata": {
    "colab": {
     "base_uri": "https://localhost:8080/",
     "height": 423
    },
    "id": "fIZ-JvXBstkT",
    "outputId": "69778eb7-a6ad-40f5-c737-4612b30733d6"
   },
   "outputs": [
    {
     "data": {
      "text/html": [
       "<div>\n",
       "<style scoped>\n",
       "    .dataframe tbody tr th:only-of-type {\n",
       "        vertical-align: middle;\n",
       "    }\n",
       "\n",
       "    .dataframe tbody tr th {\n",
       "        vertical-align: top;\n",
       "    }\n",
       "\n",
       "    .dataframe thead th {\n",
       "        text-align: right;\n",
       "    }\n",
       "</style>\n",
       "<table border=\"1\" class=\"dataframe\">\n",
       "  <thead>\n",
       "    <tr style=\"text-align: right;\">\n",
       "      <th></th>\n",
       "      <th>SubjectId</th>\n",
       "      <th>abdominalextensiondepthsitting</th>\n",
       "      <th>acromialheight</th>\n",
       "      <th>acromionradialelength</th>\n",
       "      <th>anklecircumference</th>\n",
       "      <th>axillaheight</th>\n",
       "      <th>balloffootcircumference</th>\n",
       "      <th>balloffootlength</th>\n",
       "      <th>biacromialbreadth</th>\n",
       "      <th>bicepscircumferenceflexed</th>\n",
       "      <th>...</th>\n",
       "      <th>Branch</th>\n",
       "      <th>PrimaryMOS</th>\n",
       "      <th>SubjectsBirthLocation</th>\n",
       "      <th>SubjectNumericRace</th>\n",
       "      <th>Ethnicity</th>\n",
       "      <th>DODRace</th>\n",
       "      <th>Age</th>\n",
       "      <th>Heightin</th>\n",
       "      <th>Weightlbs</th>\n",
       "      <th>WritingPreference</th>\n",
       "    </tr>\n",
       "  </thead>\n",
       "  <tbody>\n",
       "    <tr>\n",
       "      <th>0</th>\n",
       "      <td>10037</td>\n",
       "      <td>231</td>\n",
       "      <td>1282</td>\n",
       "      <td>301</td>\n",
       "      <td>204</td>\n",
       "      <td>1180</td>\n",
       "      <td>222</td>\n",
       "      <td>177</td>\n",
       "      <td>373</td>\n",
       "      <td>315</td>\n",
       "      <td>...</td>\n",
       "      <td>Combat Support</td>\n",
       "      <td>92Y</td>\n",
       "      <td>Germany</td>\n",
       "      <td>2</td>\n",
       "      <td>NaN</td>\n",
       "      <td>2</td>\n",
       "      <td>26</td>\n",
       "      <td>61</td>\n",
       "      <td>142</td>\n",
       "      <td>Right hand</td>\n",
       "    </tr>\n",
       "    <tr>\n",
       "      <th>1</th>\n",
       "      <td>10038</td>\n",
       "      <td>194</td>\n",
       "      <td>1379</td>\n",
       "      <td>320</td>\n",
       "      <td>207</td>\n",
       "      <td>1292</td>\n",
       "      <td>225</td>\n",
       "      <td>178</td>\n",
       "      <td>372</td>\n",
       "      <td>272</td>\n",
       "      <td>...</td>\n",
       "      <td>Combat Service Support</td>\n",
       "      <td>25U</td>\n",
       "      <td>California</td>\n",
       "      <td>3</td>\n",
       "      <td>Mexican</td>\n",
       "      <td>3</td>\n",
       "      <td>21</td>\n",
       "      <td>64</td>\n",
       "      <td>120</td>\n",
       "      <td>Right hand</td>\n",
       "    </tr>\n",
       "    <tr>\n",
       "      <th>2</th>\n",
       "      <td>10042</td>\n",
       "      <td>183</td>\n",
       "      <td>1369</td>\n",
       "      <td>329</td>\n",
       "      <td>233</td>\n",
       "      <td>1271</td>\n",
       "      <td>237</td>\n",
       "      <td>196</td>\n",
       "      <td>397</td>\n",
       "      <td>300</td>\n",
       "      <td>...</td>\n",
       "      <td>Combat Service Support</td>\n",
       "      <td>35D</td>\n",
       "      <td>Texas</td>\n",
       "      <td>1</td>\n",
       "      <td>NaN</td>\n",
       "      <td>1</td>\n",
       "      <td>23</td>\n",
       "      <td>68</td>\n",
       "      <td>147</td>\n",
       "      <td>Right hand</td>\n",
       "    </tr>\n",
       "    <tr>\n",
       "      <th>3</th>\n",
       "      <td>10043</td>\n",
       "      <td>261</td>\n",
       "      <td>1356</td>\n",
       "      <td>306</td>\n",
       "      <td>214</td>\n",
       "      <td>1250</td>\n",
       "      <td>240</td>\n",
       "      <td>188</td>\n",
       "      <td>384</td>\n",
       "      <td>364</td>\n",
       "      <td>...</td>\n",
       "      <td>Combat Service Support</td>\n",
       "      <td>25U</td>\n",
       "      <td>District of Columbia</td>\n",
       "      <td>8</td>\n",
       "      <td>Caribbean Islander</td>\n",
       "      <td>2</td>\n",
       "      <td>22</td>\n",
       "      <td>66</td>\n",
       "      <td>175</td>\n",
       "      <td>Right hand</td>\n",
       "    </tr>\n",
       "    <tr>\n",
       "      <th>4</th>\n",
       "      <td>10051</td>\n",
       "      <td>309</td>\n",
       "      <td>1303</td>\n",
       "      <td>308</td>\n",
       "      <td>214</td>\n",
       "      <td>1210</td>\n",
       "      <td>217</td>\n",
       "      <td>182</td>\n",
       "      <td>378</td>\n",
       "      <td>320</td>\n",
       "      <td>...</td>\n",
       "      <td>Combat Arms</td>\n",
       "      <td>42A</td>\n",
       "      <td>Texas</td>\n",
       "      <td>1</td>\n",
       "      <td>NaN</td>\n",
       "      <td>1</td>\n",
       "      <td>45</td>\n",
       "      <td>63</td>\n",
       "      <td>195</td>\n",
       "      <td>Right hand</td>\n",
       "    </tr>\n",
       "  </tbody>\n",
       "</table>\n",
       "<p>5 rows × 108 columns</p>\n",
       "</div>"
      ],
      "text/plain": [
       "   SubjectId  abdominalextensiondepthsitting  acromialheight  \\\n",
       "0      10037                             231            1282   \n",
       "1      10038                             194            1379   \n",
       "2      10042                             183            1369   \n",
       "3      10043                             261            1356   \n",
       "4      10051                             309            1303   \n",
       "\n",
       "   acromionradialelength  anklecircumference  axillaheight  \\\n",
       "0                    301                 204          1180   \n",
       "1                    320                 207          1292   \n",
       "2                    329                 233          1271   \n",
       "3                    306                 214          1250   \n",
       "4                    308                 214          1210   \n",
       "\n",
       "   balloffootcircumference  balloffootlength  biacromialbreadth  \\\n",
       "0                      222               177                373   \n",
       "1                      225               178                372   \n",
       "2                      237               196                397   \n",
       "3                      240               188                384   \n",
       "4                      217               182                378   \n",
       "\n",
       "   bicepscircumferenceflexed  ...                  Branch  PrimaryMOS  \\\n",
       "0                        315  ...          Combat Support         92Y   \n",
       "1                        272  ...  Combat Service Support         25U   \n",
       "2                        300  ...  Combat Service Support         35D   \n",
       "3                        364  ...  Combat Service Support         25U   \n",
       "4                        320  ...             Combat Arms         42A   \n",
       "\n",
       "   SubjectsBirthLocation  SubjectNumericRace           Ethnicity  DODRace  \\\n",
       "0                Germany                   2                 NaN        2   \n",
       "1             California                   3             Mexican        3   \n",
       "2                  Texas                   1                 NaN        1   \n",
       "3   District of Columbia                   8  Caribbean Islander        2   \n",
       "4                  Texas                   1                 NaN        1   \n",
       "\n",
       "   Age  Heightin  Weightlbs  WritingPreference  \n",
       "0   26        61        142         Right hand  \n",
       "1   21        64        120         Right hand  \n",
       "2   23        68        147         Right hand  \n",
       "3   22        66        175         Right hand  \n",
       "4   45        63        195         Right hand  \n",
       "\n",
       "[5 rows x 108 columns]"
      ]
     },
     "execution_count": 15,
     "metadata": {},
     "output_type": "execute_result"
    }
   ],
   "source": [
    "df_female.head()"
   ]
  },
  {
   "cell_type": "code",
   "execution_count": 16,
   "metadata": {
    "colab": {
     "base_uri": "https://localhost:8080/"
    },
    "id": "D2pvKpjstKH6",
    "outputId": "88b32acc-f739-4605-8212-877dd7b085a1"
   },
   "outputs": [
    {
     "name": "stdout",
     "output_type": "stream",
     "text": [
      "(4082, 108)\n",
      "(1986, 108)\n"
     ]
    }
   ],
   "source": [
    "print(df_male.shape)\n",
    "print(df_female.shape)"
   ]
  },
  {
   "cell_type": "code",
   "execution_count": 17,
   "metadata": {
    "colab": {
     "base_uri": "https://localhost:8080/",
     "height": 17
    },
    "id": "SnlGRPWbrNAj",
    "outputId": "29ed8227-1450-4213-e9d1-a2953167d415"
   },
   "outputs": [
    {
     "data": {
      "application/javascript": [
       "\n",
       "        if (window._pyforest_update_imports_cell) { window._pyforest_update_imports_cell('import pandas as pd'); }\n",
       "    "
      ],
      "text/plain": [
       "<IPython.core.display.Javascript object>"
      ]
     },
     "metadata": {},
     "output_type": "display_data"
    }
   ],
   "source": [
    "data = pd.concat([df_male,df_female], axis=0,ignore_index=True)"
   ]
  },
  {
   "cell_type": "code",
   "execution_count": 18,
   "metadata": {
    "colab": {
     "base_uri": "https://localhost:8080/"
    },
    "id": "8XmZ7dQ3rieM",
    "outputId": "61944781-1aa9-4197-f785-70170dc74969"
   },
   "outputs": [
    {
     "data": {
      "text/plain": [
       "(6068, 109)"
      ]
     },
     "execution_count": 18,
     "metadata": {},
     "output_type": "execute_result"
    }
   ],
   "source": [
    "data.shape"
   ]
  },
  {
   "cell_type": "code",
   "execution_count": 19,
   "metadata": {
    "colab": {
     "base_uri": "https://localhost:8080/",
     "height": 779
    },
    "id": "241ULkh6tcSD",
    "outputId": "62ede2f2-4be4-43e2-947a-a8bc1ab9d17b"
   },
   "outputs": [
    {
     "data": {
      "text/html": [
       "<div>\n",
       "<style scoped>\n",
       "    .dataframe tbody tr th:only-of-type {\n",
       "        vertical-align: middle;\n",
       "    }\n",
       "\n",
       "    .dataframe tbody tr th {\n",
       "        vertical-align: top;\n",
       "    }\n",
       "\n",
       "    .dataframe thead th {\n",
       "        text-align: right;\n",
       "    }\n",
       "</style>\n",
       "<table border=\"1\" class=\"dataframe\">\n",
       "  <thead>\n",
       "    <tr style=\"text-align: right;\">\n",
       "      <th></th>\n",
       "      <th>subjectid</th>\n",
       "      <th>abdominalextensiondepthsitting</th>\n",
       "      <th>acromialheight</th>\n",
       "      <th>acromionradialelength</th>\n",
       "      <th>anklecircumference</th>\n",
       "      <th>axillaheight</th>\n",
       "      <th>balloffootcircumference</th>\n",
       "      <th>balloffootlength</th>\n",
       "      <th>biacromialbreadth</th>\n",
       "      <th>bicepscircumferenceflexed</th>\n",
       "      <th>...</th>\n",
       "      <th>PrimaryMOS</th>\n",
       "      <th>SubjectsBirthLocation</th>\n",
       "      <th>SubjectNumericRace</th>\n",
       "      <th>Ethnicity</th>\n",
       "      <th>DODRace</th>\n",
       "      <th>Age</th>\n",
       "      <th>Heightin</th>\n",
       "      <th>Weightlbs</th>\n",
       "      <th>WritingPreference</th>\n",
       "      <th>SubjectId</th>\n",
       "    </tr>\n",
       "  </thead>\n",
       "  <tbody>\n",
       "    <tr>\n",
       "      <th>0</th>\n",
       "      <td>10027.0</td>\n",
       "      <td>266</td>\n",
       "      <td>1467</td>\n",
       "      <td>337</td>\n",
       "      <td>222</td>\n",
       "      <td>1347</td>\n",
       "      <td>253</td>\n",
       "      <td>202</td>\n",
       "      <td>401</td>\n",
       "      <td>369</td>\n",
       "      <td>...</td>\n",
       "      <td>19D</td>\n",
       "      <td>North Dakota</td>\n",
       "      <td>1</td>\n",
       "      <td>NaN</td>\n",
       "      <td>1</td>\n",
       "      <td>41</td>\n",
       "      <td>71</td>\n",
       "      <td>180</td>\n",
       "      <td>Right hand</td>\n",
       "      <td>NaN</td>\n",
       "    </tr>\n",
       "    <tr>\n",
       "      <th>1</th>\n",
       "      <td>10032.0</td>\n",
       "      <td>233</td>\n",
       "      <td>1395</td>\n",
       "      <td>326</td>\n",
       "      <td>220</td>\n",
       "      <td>1293</td>\n",
       "      <td>245</td>\n",
       "      <td>193</td>\n",
       "      <td>394</td>\n",
       "      <td>338</td>\n",
       "      <td>...</td>\n",
       "      <td>68W</td>\n",
       "      <td>New York</td>\n",
       "      <td>1</td>\n",
       "      <td>NaN</td>\n",
       "      <td>1</td>\n",
       "      <td>35</td>\n",
       "      <td>68</td>\n",
       "      <td>160</td>\n",
       "      <td>Left hand</td>\n",
       "      <td>NaN</td>\n",
       "    </tr>\n",
       "    <tr>\n",
       "      <th>2</th>\n",
       "      <td>10033.0</td>\n",
       "      <td>287</td>\n",
       "      <td>1430</td>\n",
       "      <td>341</td>\n",
       "      <td>230</td>\n",
       "      <td>1327</td>\n",
       "      <td>256</td>\n",
       "      <td>196</td>\n",
       "      <td>427</td>\n",
       "      <td>408</td>\n",
       "      <td>...</td>\n",
       "      <td>68W</td>\n",
       "      <td>New York</td>\n",
       "      <td>2</td>\n",
       "      <td>NaN</td>\n",
       "      <td>2</td>\n",
       "      <td>42</td>\n",
       "      <td>68</td>\n",
       "      <td>205</td>\n",
       "      <td>Left hand</td>\n",
       "      <td>NaN</td>\n",
       "    </tr>\n",
       "    <tr>\n",
       "      <th>3</th>\n",
       "      <td>10092.0</td>\n",
       "      <td>234</td>\n",
       "      <td>1347</td>\n",
       "      <td>310</td>\n",
       "      <td>230</td>\n",
       "      <td>1239</td>\n",
       "      <td>262</td>\n",
       "      <td>199</td>\n",
       "      <td>401</td>\n",
       "      <td>359</td>\n",
       "      <td>...</td>\n",
       "      <td>88M</td>\n",
       "      <td>Wisconsin</td>\n",
       "      <td>1</td>\n",
       "      <td>NaN</td>\n",
       "      <td>1</td>\n",
       "      <td>31</td>\n",
       "      <td>66</td>\n",
       "      <td>175</td>\n",
       "      <td>Right hand</td>\n",
       "      <td>NaN</td>\n",
       "    </tr>\n",
       "    <tr>\n",
       "      <th>4</th>\n",
       "      <td>10093.0</td>\n",
       "      <td>250</td>\n",
       "      <td>1585</td>\n",
       "      <td>372</td>\n",
       "      <td>247</td>\n",
       "      <td>1478</td>\n",
       "      <td>267</td>\n",
       "      <td>224</td>\n",
       "      <td>435</td>\n",
       "      <td>356</td>\n",
       "      <td>...</td>\n",
       "      <td>92G</td>\n",
       "      <td>North Carolina</td>\n",
       "      <td>2</td>\n",
       "      <td>NaN</td>\n",
       "      <td>2</td>\n",
       "      <td>21</td>\n",
       "      <td>77</td>\n",
       "      <td>213</td>\n",
       "      <td>Right hand</td>\n",
       "      <td>NaN</td>\n",
       "    </tr>\n",
       "    <tr>\n",
       "      <th>...</th>\n",
       "      <td>...</td>\n",
       "      <td>...</td>\n",
       "      <td>...</td>\n",
       "      <td>...</td>\n",
       "      <td>...</td>\n",
       "      <td>...</td>\n",
       "      <td>...</td>\n",
       "      <td>...</td>\n",
       "      <td>...</td>\n",
       "      <td>...</td>\n",
       "      <td>...</td>\n",
       "      <td>...</td>\n",
       "      <td>...</td>\n",
       "      <td>...</td>\n",
       "      <td>...</td>\n",
       "      <td>...</td>\n",
       "      <td>...</td>\n",
       "      <td>...</td>\n",
       "      <td>...</td>\n",
       "      <td>...</td>\n",
       "      <td>...</td>\n",
       "    </tr>\n",
       "    <tr>\n",
       "      <th>6063</th>\n",
       "      <td>NaN</td>\n",
       "      <td>285</td>\n",
       "      <td>1392</td>\n",
       "      <td>335</td>\n",
       "      <td>223</td>\n",
       "      <td>1297</td>\n",
       "      <td>252</td>\n",
       "      <td>196</td>\n",
       "      <td>368</td>\n",
       "      <td>299</td>\n",
       "      <td>...</td>\n",
       "      <td>42A</td>\n",
       "      <td>Texas</td>\n",
       "      <td>3</td>\n",
       "      <td>Mexican</td>\n",
       "      <td>3</td>\n",
       "      <td>51</td>\n",
       "      <td>67</td>\n",
       "      <td>180</td>\n",
       "      <td>Right hand</td>\n",
       "      <td>29501.0</td>\n",
       "    </tr>\n",
       "    <tr>\n",
       "      <th>6064</th>\n",
       "      <td>NaN</td>\n",
       "      <td>262</td>\n",
       "      <td>1324</td>\n",
       "      <td>301</td>\n",
       "      <td>202</td>\n",
       "      <td>1204</td>\n",
       "      <td>236</td>\n",
       "      <td>181</td>\n",
       "      <td>378</td>\n",
       "      <td>294</td>\n",
       "      <td>...</td>\n",
       "      <td>25U</td>\n",
       "      <td>Texas</td>\n",
       "      <td>3</td>\n",
       "      <td>Mexican</td>\n",
       "      <td>3</td>\n",
       "      <td>40</td>\n",
       "      <td>63</td>\n",
       "      <td>150</td>\n",
       "      <td>Right hand</td>\n",
       "      <td>29502.0</td>\n",
       "    </tr>\n",
       "    <tr>\n",
       "      <th>6065</th>\n",
       "      <td>NaN</td>\n",
       "      <td>260</td>\n",
       "      <td>1334</td>\n",
       "      <td>318</td>\n",
       "      <td>213</td>\n",
       "      <td>1259</td>\n",
       "      <td>234</td>\n",
       "      <td>183</td>\n",
       "      <td>363</td>\n",
       "      <td>332</td>\n",
       "      <td>...</td>\n",
       "      <td>42A</td>\n",
       "      <td>Texas</td>\n",
       "      <td>2</td>\n",
       "      <td>NaN</td>\n",
       "      <td>2</td>\n",
       "      <td>40</td>\n",
       "      <td>66</td>\n",
       "      <td>168</td>\n",
       "      <td>Right hand</td>\n",
       "      <td>29503.0</td>\n",
       "    </tr>\n",
       "    <tr>\n",
       "      <th>6066</th>\n",
       "      <td>NaN</td>\n",
       "      <td>205</td>\n",
       "      <td>1293</td>\n",
       "      <td>302</td>\n",
       "      <td>199</td>\n",
       "      <td>1207</td>\n",
       "      <td>213</td>\n",
       "      <td>163</td>\n",
       "      <td>376</td>\n",
       "      <td>276</td>\n",
       "      <td>...</td>\n",
       "      <td>92Y</td>\n",
       "      <td>Texas</td>\n",
       "      <td>3</td>\n",
       "      <td>Mexican</td>\n",
       "      <td>3</td>\n",
       "      <td>31</td>\n",
       "      <td>63</td>\n",
       "      <td>133</td>\n",
       "      <td>Right hand</td>\n",
       "      <td>29511.0</td>\n",
       "    </tr>\n",
       "    <tr>\n",
       "      <th>6067</th>\n",
       "      <td>NaN</td>\n",
       "      <td>238</td>\n",
       "      <td>1346</td>\n",
       "      <td>308</td>\n",
       "      <td>210</td>\n",
       "      <td>1256</td>\n",
       "      <td>236</td>\n",
       "      <td>188</td>\n",
       "      <td>361</td>\n",
       "      <td>285</td>\n",
       "      <td>...</td>\n",
       "      <td>92F</td>\n",
       "      <td>Texas</td>\n",
       "      <td>3</td>\n",
       "      <td>Mexican</td>\n",
       "      <td>3</td>\n",
       "      <td>27</td>\n",
       "      <td>66</td>\n",
       "      <td>132</td>\n",
       "      <td>Right hand</td>\n",
       "      <td>920103.0</td>\n",
       "    </tr>\n",
       "  </tbody>\n",
       "</table>\n",
       "<p>6068 rows × 109 columns</p>\n",
       "</div>"
      ],
      "text/plain": [
       "      subjectid  abdominalextensiondepthsitting  acromialheight  \\\n",
       "0       10027.0                             266            1467   \n",
       "1       10032.0                             233            1395   \n",
       "2       10033.0                             287            1430   \n",
       "3       10092.0                             234            1347   \n",
       "4       10093.0                             250            1585   \n",
       "...         ...                             ...             ...   \n",
       "6063        NaN                             285            1392   \n",
       "6064        NaN                             262            1324   \n",
       "6065        NaN                             260            1334   \n",
       "6066        NaN                             205            1293   \n",
       "6067        NaN                             238            1346   \n",
       "\n",
       "      acromionradialelength  anklecircumference  axillaheight  \\\n",
       "0                       337                 222          1347   \n",
       "1                       326                 220          1293   \n",
       "2                       341                 230          1327   \n",
       "3                       310                 230          1239   \n",
       "4                       372                 247          1478   \n",
       "...                     ...                 ...           ...   \n",
       "6063                    335                 223          1297   \n",
       "6064                    301                 202          1204   \n",
       "6065                    318                 213          1259   \n",
       "6066                    302                 199          1207   \n",
       "6067                    308                 210          1256   \n",
       "\n",
       "      balloffootcircumference  balloffootlength  biacromialbreadth  \\\n",
       "0                         253               202                401   \n",
       "1                         245               193                394   \n",
       "2                         256               196                427   \n",
       "3                         262               199                401   \n",
       "4                         267               224                435   \n",
       "...                       ...               ...                ...   \n",
       "6063                      252               196                368   \n",
       "6064                      236               181                378   \n",
       "6065                      234               183                363   \n",
       "6066                      213               163                376   \n",
       "6067                      236               188                361   \n",
       "\n",
       "      bicepscircumferenceflexed  ...  PrimaryMOS  SubjectsBirthLocation  \\\n",
       "0                           369  ...         19D           North Dakota   \n",
       "1                           338  ...         68W               New York   \n",
       "2                           408  ...         68W               New York   \n",
       "3                           359  ...         88M              Wisconsin   \n",
       "4                           356  ...         92G         North Carolina   \n",
       "...                         ...  ...         ...                    ...   \n",
       "6063                        299  ...         42A                  Texas   \n",
       "6064                        294  ...         25U                  Texas   \n",
       "6065                        332  ...         42A                  Texas   \n",
       "6066                        276  ...         92Y                  Texas   \n",
       "6067                        285  ...         92F                  Texas   \n",
       "\n",
       "      SubjectNumericRace  Ethnicity  DODRace  Age  Heightin  Weightlbs  \\\n",
       "0                      1        NaN        1   41        71        180   \n",
       "1                      1        NaN        1   35        68        160   \n",
       "2                      2        NaN        2   42        68        205   \n",
       "3                      1        NaN        1   31        66        175   \n",
       "4                      2        NaN        2   21        77        213   \n",
       "...                  ...        ...      ...  ...       ...        ...   \n",
       "6063                   3    Mexican        3   51        67        180   \n",
       "6064                   3    Mexican        3   40        63        150   \n",
       "6065                   2        NaN        2   40        66        168   \n",
       "6066                   3    Mexican        3   31        63        133   \n",
       "6067                   3    Mexican        3   27        66        132   \n",
       "\n",
       "      WritingPreference  SubjectId  \n",
       "0            Right hand        NaN  \n",
       "1             Left hand        NaN  \n",
       "2             Left hand        NaN  \n",
       "3            Right hand        NaN  \n",
       "4            Right hand        NaN  \n",
       "...                 ...        ...  \n",
       "6063         Right hand    29501.0  \n",
       "6064         Right hand    29502.0  \n",
       "6065         Right hand    29503.0  \n",
       "6066         Right hand    29511.0  \n",
       "6067         Right hand   920103.0  \n",
       "\n",
       "[6068 rows x 109 columns]"
      ]
     },
     "execution_count": 19,
     "metadata": {},
     "output_type": "execute_result"
    }
   ],
   "source": [
    "data"
   ]
  },
  {
   "cell_type": "code",
   "execution_count": 20,
   "metadata": {
    "colab": {
     "base_uri": "https://localhost:8080/"
    },
    "id": "PHMyPUlZt8Qz",
    "outputId": "693ac090-234a-451f-d149-7faeafb56089"
   },
   "outputs": [
    {
     "name": "stdout",
     "output_type": "stream",
     "text": [
      "<class 'pandas.core.frame.DataFrame'>\n",
      "RangeIndex: 6068 entries, 0 to 6067\n",
      "Columns: 109 entries, subjectid to SubjectId\n",
      "dtypes: float64(2), int64(98), object(9)\n",
      "memory usage: 5.0+ MB\n"
     ]
    }
   ],
   "source": [
    "data.info()"
   ]
  },
  {
   "cell_type": "code",
   "execution_count": 21,
   "metadata": {
    "colab": {
     "base_uri": "https://localhost:8080/"
    },
    "id": "QOnt73gSvq4B",
    "outputId": "c453b1b6-1ec1-4927-cd8b-83bbeb82c87d"
   },
   "outputs": [
    {
     "data": {
      "text/plain": [
       "True"
      ]
     },
     "execution_count": 21,
     "metadata": {},
     "output_type": "execute_result"
    }
   ],
   "source": [
    "data.isnull().sum().any()"
   ]
  },
  {
   "cell_type": "code",
   "execution_count": 22,
   "metadata": {},
   "outputs": [
    {
     "data": {
      "text/plain": [
       "0"
      ]
     },
     "execution_count": 22,
     "metadata": {},
     "output_type": "execute_result"
    }
   ],
   "source": [
    "data.duplicated().sum()"
   ]
  },
  {
   "cell_type": "code",
   "execution_count": 23,
   "metadata": {},
   "outputs": [
    {
     "name": "stdout",
     "output_type": "stream",
     "text": [
      "1    3792\n",
      "2    1298\n",
      "3     679\n",
      "4     188\n",
      "6      59\n",
      "5      49\n",
      "8       3\n",
      "Name: DODRace, dtype: int64\n"
     ]
    },
    {
     "data": {
      "image/png": "[encoded data removed]",
      "text/plain": [
       "<Figure size 720x720 with 1 Axes>"
      ]
     },
     "metadata": {},
     "output_type": "display_data"
    }
   ],
   "source": [
    "print(data[\"DODRace\"].value_counts())\n",
    "data[\"DODRace\"].value_counts().plot(kind=\"pie\", autopct='%1.1f%%',figsize=(10,10));"
   ]
  },
  {
   "cell_type": "code",
   "execution_count": 24,
   "metadata": {
    "colab": {
     "base_uri": "https://localhost:8080/"
    },
    "id": "wGYZfgkztl9t",
    "outputId": "5bfe8f02-6bbe-4730-f373-3e7d196d2342"
   },
   "outputs": [
    {
     "name": "stdout",
     "output_type": "stream",
     "text": [
      "subjectid = 1986\n",
      "Ethnicity = 4647\n",
      "SubjectId = 4082\n"
     ]
    },
    {
     "data": {
      "text/plain": [
       "['subjectid', 'Ethnicity', 'SubjectId']"
      ]
     },
     "execution_count": 24,
     "metadata": {},
     "output_type": "execute_result"
    }
   ],
   "source": [
    "drop_list =[]\n",
    "for col in data.columns:\n",
    "  if data[col].isnull().sum()>1800:\n",
    "    print(f\"{col} = {data[col].isnull().sum()}\")\n",
    "    drop_list.append(col)\n",
    "  \n",
    "  \n",
    "drop_list "
   ]
  },
  {
   "cell_type": "code",
   "execution_count": 25,
   "metadata": {
    "id": "Ioyykr9_wGm8"
   },
   "outputs": [],
   "source": [
    "data.drop(drop_list,axis=1, inplace=True)"
   ]
  },
  {
   "cell_type": "code",
   "execution_count": 26,
   "metadata": {
    "colab": {
     "base_uri": "https://localhost:8080/"
    },
    "id": "dORfItcKm161",
    "outputId": "2b0f6a70-427a-4355-be9e-f4aa8b5c1040"
   },
   "outputs": [
    {
     "data": {
      "text/plain": [
       "False"
      ]
     },
     "execution_count": 26,
     "metadata": {},
     "output_type": "execute_result"
    }
   ],
   "source": [
    "data.isnull().sum().any()"
   ]
  },
  {
   "cell_type": "code",
   "execution_count": 27,
   "metadata": {
    "colab": {
     "base_uri": "https://localhost:8080/"
    },
    "id": "-hmOrbxeyOqz",
    "outputId": "d7343bad-8fa2-408b-c716-295bed4dd7e0"
   },
   "outputs": [
    {
     "data": {
      "text/plain": [
       "(6068, 106)"
      ]
     },
     "execution_count": 27,
     "metadata": {},
     "output_type": "execute_result"
    }
   ],
   "source": [
    "data.shape"
   ]
  },
  {
   "cell_type": "code",
   "execution_count": 28,
   "metadata": {
    "colab": {
     "base_uri": "https://localhost:8080/",
     "height": 153
    },
    "id": "ftyyRNukybT-",
    "outputId": "216fe311-04dd-44ec-a668-e8b2be84494c"
   },
   "outputs": [
    {
     "data": {
      "application/javascript": [
       "\n",
       "        if (window._pyforest_update_imports_cell) { window._pyforest_update_imports_cell('import numpy as np\\nimport pandas as pd'); }\n",
       "    "
      ],
      "text/plain": [
       "<IPython.core.display.Javascript object>"
      ]
     },
     "metadata": {},
     "output_type": "display_data"
    },
    {
     "name": "stdout",
     "output_type": "stream",
     "text": [
      "Gender has 2 unique value\n",
      "Date has 253 unique value\n",
      "Installation has 12 unique value\n",
      "Component has 3 unique value\n",
      "Branch has 3 unique value\n",
      "PrimaryMOS has 285 unique value\n",
      "SubjectsBirthLocation has 152 unique value\n",
      "WritingPreference has 3 unique value\n"
     ]
    }
   ],
   "source": [
    "# to find how many unique values object features have\n",
    "for col in data.select_dtypes(exclude=[np.number]).columns:\n",
    "  print(f\"{col} has {data[col].nunique()} unique value\")\n",
    "    "
   ]
  },
  {
   "cell_type": "code",
   "execution_count": 29,
   "metadata": {
    "colab": {
     "base_uri": "https://localhost:8080/"
    },
    "id": "rUAmZFW_ncMb",
    "outputId": "d04fc94a-939d-4b5f-89e6-2e015e175c75"
   },
   "outputs": [
    {
     "data": {
      "text/plain": [
       "Component            DODRace\n",
       "Army National Guard  1          1855\n",
       "                     2           499\n",
       "                     3           253\n",
       "                     4            60\n",
       "                     5            24\n",
       "                     6            17\n",
       "Army Reserve         1           114\n",
       "                     2            52\n",
       "                     3            41\n",
       "                     4             9\n",
       "                     6             3\n",
       "                     5             1\n",
       "Regular Army         1          1823\n",
       "                     2           747\n",
       "                     3           385\n",
       "                     4           119\n",
       "                     6            39\n",
       "                     5            24\n",
       "                     8             3\n",
       "Name: DODRace, dtype: int64"
      ]
     },
     "execution_count": 29,
     "metadata": {},
     "output_type": "execute_result"
    }
   ],
   "source": [
    "data.groupby([\"Component\"])[\"DODRace\"].value_counts()"
   ]
  },
  {
   "cell_type": "code",
   "execution_count": 30,
   "metadata": {
    "colab": {
     "base_uri": "https://localhost:8080/"
    },
    "id": "39UaFlGwnoaF",
    "outputId": "54005703-8095-4a2f-a1c4-7ad2861caff3"
   },
   "outputs": [
    {
     "data": {
      "text/plain": [
       "Component            Branch                  DODRace\n",
       "Army National Guard  Combat Arms             1          623\n",
       "                                             2           79\n",
       "                                             3           74\n",
       "                                             4           18\n",
       "                                             5            9\n",
       "                                             6            4\n",
       "                     Combat Service Support  1          917\n",
       "                                             2          312\n",
       "                                             3          142\n",
       "                                             4           33\n",
       "                                             6           11\n",
       "                                             5           10\n",
       "                     Combat Support          1          315\n",
       "                                             2          108\n",
       "                                             3           37\n",
       "                                             4            9\n",
       "                                             5            5\n",
       "                                             6            2\n",
       "Army Reserve         Combat Arms             1            5\n",
       "                                             3            1\n",
       "                     Combat Service Support  1           82\n",
       "                                             3           30\n",
       "                                             2           24\n",
       "                                             4            7\n",
       "                                             6            2\n",
       "                                             5            1\n",
       "                     Combat Support          2           28\n",
       "                                             1           27\n",
       "                                             3           10\n",
       "                                             4            2\n",
       "                                             6            1\n",
       "Regular Army         Combat Arms             1          518\n",
       "                                             3          114\n",
       "                                             2           94\n",
       "                                             4           26\n",
       "                                             6            9\n",
       "                                             5            7\n",
       "                                             8            1\n",
       "                     Combat Service Support  1          912\n",
       "                                             2          409\n",
       "                                             3          193\n",
       "                                             4           59\n",
       "                                             5           14\n",
       "                                             6           14\n",
       "                                             8            2\n",
       "                     Combat Support          1          393\n",
       "                                             2          244\n",
       "                                             3           78\n",
       "                                             4           34\n",
       "                                             6           16\n",
       "                                             5            3\n",
       "Name: DODRace, dtype: int64"
      ]
     },
     "execution_count": 30,
     "metadata": {},
     "output_type": "execute_result"
    }
   ],
   "source": [
    "data.groupby([\"Component\",\"Branch\"])[\"DODRace\"].value_counts()"
   ]
  },
  {
   "cell_type": "code",
   "execution_count": 31,
   "metadata": {
    "id": "PiQUBnYkzKXr"
   },
   "outputs": [],
   "source": [
    "drop_list1 = [\"Date\", \"Installation\", \"Component\",\"PrimaryMOS\"]\n",
    "\n",
    "data.drop(drop_list1,axis=1,inplace=True)"
   ]
  },
  {
   "cell_type": "code",
   "execution_count": 32,
   "metadata": {
    "colab": {
     "base_uri": "https://localhost:8080/"
    },
    "id": "igV1RIIUqF1z",
    "outputId": "7d917e99-8669-4a1a-c9c1-27f334efb71f"
   },
   "outputs": [
    {
     "data": {
      "text/plain": [
       "Index(['abdominalextensiondepthsitting', 'acromialheight',\n",
       "       'acromionradialelength', 'anklecircumference', 'axillaheight',\n",
       "       'balloffootcircumference', 'balloffootlength', 'biacromialbreadth',\n",
       "       'bicepscircumferenceflexed', 'bicristalbreadth',\n",
       "       ...\n",
       "       'wristheight', 'Gender', 'Branch', 'SubjectsBirthLocation',\n",
       "       'SubjectNumericRace', 'DODRace', 'Age', 'Heightin', 'Weightlbs',\n",
       "       'WritingPreference'],\n",
       "      dtype='object', length=102)"
      ]
     },
     "execution_count": 32,
     "metadata": {},
     "output_type": "execute_result"
    }
   ],
   "source": [
    "data.columns"
   ]
  },
  {
   "cell_type": "code",
   "execution_count": 33,
   "metadata": {
    "colab": {
     "base_uri": "https://localhost:8080/"
    },
    "id": "JPvxPBUQou8A",
    "outputId": "8dc921e1-02a3-48e3-c440-4af18f7fdac9"
   },
   "outputs": [
    {
     "data": {
      "text/plain": [
       "1        3561\n",
       "2        1026\n",
       "3         541\n",
       "31        160\n",
       "51        126\n",
       "8         116\n",
       "4         109\n",
       "21         60\n",
       "6          59\n",
       "41         46\n",
       "61         35\n",
       "23         34\n",
       "28         26\n",
       "251        20\n",
       "18         18\n",
       "5          18\n",
       "25         14\n",
       "351        10\n",
       "38          9\n",
       "35          8\n",
       "62          8\n",
       "64          8\n",
       "63          7\n",
       "42          7\n",
       "231         6\n",
       "43          5\n",
       "235         4\n",
       "218         3\n",
       "651         2\n",
       "423         2\n",
       "451         2\n",
       "431         2\n",
       "318         2\n",
       "2351        2\n",
       "641         2\n",
       "2518        2\n",
       "631         1\n",
       "238         1\n",
       "358         1\n",
       "425         1\n",
       "4251        1\n",
       "428         1\n",
       "48          1\n",
       "42351       1\n",
       "Name: SubjectNumericRace, dtype: int64"
      ]
     },
     "execution_count": 33,
     "metadata": {},
     "output_type": "execute_result"
    }
   ],
   "source": [
    "data.SubjectNumericRace.value_counts()"
   ]
  },
  {
   "cell_type": "code",
   "execution_count": 34,
   "metadata": {
    "id": "P6N_t4tOphWl"
   },
   "outputs": [],
   "source": [
    "data.drop(\"SubjectNumericRace\",axis=1,inplace=True)"
   ]
  },
  {
   "cell_type": "code",
   "execution_count": 35,
   "metadata": {
    "colab": {
     "base_uri": "https://localhost:8080/"
    },
    "id": "XA4ciMPgpOcw",
    "outputId": "3191dc82-ef55-4c9e-8688-9d6700d82b4b"
   },
   "outputs": [
    {
     "data": {
      "text/plain": [
       "array([1, 2, 3, 4, 5, 6, 8], dtype=int64)"
      ]
     },
     "execution_count": 35,
     "metadata": {},
     "output_type": "execute_result"
    }
   ],
   "source": [
    "data.DODRace.unique()"
   ]
  },
  {
   "cell_type": "code",
   "execution_count": 36,
   "metadata": {
    "id": "S1vDgze4rj5g"
   },
   "outputs": [],
   "source": [
    "data[\"DODRace\"] = data.DODRace.map({1 : \"White\", 2 : \"Black\", 3 : \"Hispanic\", 4 : \"Asian\", 5 : \"Native American\", 6 : \"Pacific Islander\", 8 : \"Other\"})"
   ]
  },
  {
   "cell_type": "code",
   "execution_count": 37,
   "metadata": {
    "colab": {
     "base_uri": "https://localhost:8080/"
    },
    "id": "eWgJQA_9smM9",
    "outputId": "c7c2d0c3-6810-4e1a-b299-7ece0f8df632"
   },
   "outputs": [
    {
     "data": {
      "text/plain": [
       "White               3792\n",
       "Black               1298\n",
       "Hispanic             679\n",
       "Asian                188\n",
       "Pacific Islander      59\n",
       "Native American       49\n",
       "Other                  3\n",
       "Name: DODRace, dtype: int64"
      ]
     },
     "execution_count": 37,
     "metadata": {},
     "output_type": "execute_result"
    }
   ],
   "source": [
    "data.DODRace.value_counts()"
   ]
  },
  {
   "cell_type": "code",
   "execution_count": 38,
   "metadata": {},
   "outputs": [
    {
     "data": {
      "text/html": [
       "<div>\n",
       "<style scoped>\n",
       "    .dataframe tbody tr th:only-of-type {\n",
       "        vertical-align: middle;\n",
       "    }\n",
       "\n",
       "    .dataframe tbody tr th {\n",
       "        vertical-align: top;\n",
       "    }\n",
       "\n",
       "    .dataframe thead th {\n",
       "        text-align: right;\n",
       "    }\n",
       "</style>\n",
       "<table border=\"1\" class=\"dataframe\">\n",
       "  <thead>\n",
       "    <tr style=\"text-align: right;\">\n",
       "      <th></th>\n",
       "      <th>abdominalextensiondepthsitting</th>\n",
       "      <th>acromialheight</th>\n",
       "      <th>acromionradialelength</th>\n",
       "      <th>anklecircumference</th>\n",
       "      <th>axillaheight</th>\n",
       "      <th>balloffootcircumference</th>\n",
       "      <th>balloffootlength</th>\n",
       "      <th>biacromialbreadth</th>\n",
       "      <th>bicepscircumferenceflexed</th>\n",
       "      <th>bicristalbreadth</th>\n",
       "      <th>...</th>\n",
       "      <th>wristcircumference</th>\n",
       "      <th>wristheight</th>\n",
       "      <th>Gender</th>\n",
       "      <th>Branch</th>\n",
       "      <th>SubjectsBirthLocation</th>\n",
       "      <th>DODRace</th>\n",
       "      <th>Age</th>\n",
       "      <th>Heightin</th>\n",
       "      <th>Weightlbs</th>\n",
       "      <th>WritingPreference</th>\n",
       "    </tr>\n",
       "  </thead>\n",
       "  <tbody>\n",
       "    <tr>\n",
       "      <th>0</th>\n",
       "      <td>266</td>\n",
       "      <td>1467</td>\n",
       "      <td>337</td>\n",
       "      <td>222</td>\n",
       "      <td>1347</td>\n",
       "      <td>253</td>\n",
       "      <td>202</td>\n",
       "      <td>401</td>\n",
       "      <td>369</td>\n",
       "      <td>274</td>\n",
       "      <td>...</td>\n",
       "      <td>175</td>\n",
       "      <td>853</td>\n",
       "      <td>Male</td>\n",
       "      <td>Combat Arms</td>\n",
       "      <td>North Dakota</td>\n",
       "      <td>White</td>\n",
       "      <td>41</td>\n",
       "      <td>71</td>\n",
       "      <td>180</td>\n",
       "      <td>Right hand</td>\n",
       "    </tr>\n",
       "    <tr>\n",
       "      <th>1</th>\n",
       "      <td>233</td>\n",
       "      <td>1395</td>\n",
       "      <td>326</td>\n",
       "      <td>220</td>\n",
       "      <td>1293</td>\n",
       "      <td>245</td>\n",
       "      <td>193</td>\n",
       "      <td>394</td>\n",
       "      <td>338</td>\n",
       "      <td>257</td>\n",
       "      <td>...</td>\n",
       "      <td>167</td>\n",
       "      <td>815</td>\n",
       "      <td>Male</td>\n",
       "      <td>Combat Support</td>\n",
       "      <td>New York</td>\n",
       "      <td>White</td>\n",
       "      <td>35</td>\n",
       "      <td>68</td>\n",
       "      <td>160</td>\n",
       "      <td>Left hand</td>\n",
       "    </tr>\n",
       "    <tr>\n",
       "      <th>2</th>\n",
       "      <td>287</td>\n",
       "      <td>1430</td>\n",
       "      <td>341</td>\n",
       "      <td>230</td>\n",
       "      <td>1327</td>\n",
       "      <td>256</td>\n",
       "      <td>196</td>\n",
       "      <td>427</td>\n",
       "      <td>408</td>\n",
       "      <td>261</td>\n",
       "      <td>...</td>\n",
       "      <td>180</td>\n",
       "      <td>831</td>\n",
       "      <td>Male</td>\n",
       "      <td>Combat Support</td>\n",
       "      <td>New York</td>\n",
       "      <td>Black</td>\n",
       "      <td>42</td>\n",
       "      <td>68</td>\n",
       "      <td>205</td>\n",
       "      <td>Left hand</td>\n",
       "    </tr>\n",
       "    <tr>\n",
       "      <th>3</th>\n",
       "      <td>234</td>\n",
       "      <td>1347</td>\n",
       "      <td>310</td>\n",
       "      <td>230</td>\n",
       "      <td>1239</td>\n",
       "      <td>262</td>\n",
       "      <td>199</td>\n",
       "      <td>401</td>\n",
       "      <td>359</td>\n",
       "      <td>262</td>\n",
       "      <td>...</td>\n",
       "      <td>176</td>\n",
       "      <td>793</td>\n",
       "      <td>Male</td>\n",
       "      <td>Combat Service Support</td>\n",
       "      <td>Wisconsin</td>\n",
       "      <td>White</td>\n",
       "      <td>31</td>\n",
       "      <td>66</td>\n",
       "      <td>175</td>\n",
       "      <td>Right hand</td>\n",
       "    </tr>\n",
       "    <tr>\n",
       "      <th>4</th>\n",
       "      <td>250</td>\n",
       "      <td>1585</td>\n",
       "      <td>372</td>\n",
       "      <td>247</td>\n",
       "      <td>1478</td>\n",
       "      <td>267</td>\n",
       "      <td>224</td>\n",
       "      <td>435</td>\n",
       "      <td>356</td>\n",
       "      <td>263</td>\n",
       "      <td>...</td>\n",
       "      <td>188</td>\n",
       "      <td>954</td>\n",
       "      <td>Male</td>\n",
       "      <td>Combat Service Support</td>\n",
       "      <td>North Carolina</td>\n",
       "      <td>Black</td>\n",
       "      <td>21</td>\n",
       "      <td>77</td>\n",
       "      <td>213</td>\n",
       "      <td>Right hand</td>\n",
       "    </tr>\n",
       "    <tr>\n",
       "      <th>...</th>\n",
       "      <td>...</td>\n",
       "      <td>...</td>\n",
       "      <td>...</td>\n",
       "      <td>...</td>\n",
       "      <td>...</td>\n",
       "      <td>...</td>\n",
       "      <td>...</td>\n",
       "      <td>...</td>\n",
       "      <td>...</td>\n",
       "      <td>...</td>\n",
       "      <td>...</td>\n",
       "      <td>...</td>\n",
       "      <td>...</td>\n",
       "      <td>...</td>\n",
       "      <td>...</td>\n",
       "      <td>...</td>\n",
       "      <td>...</td>\n",
       "      <td>...</td>\n",
       "      <td>...</td>\n",
       "      <td>...</td>\n",
       "      <td>...</td>\n",
       "    </tr>\n",
       "    <tr>\n",
       "      <th>6063</th>\n",
       "      <td>285</td>\n",
       "      <td>1392</td>\n",
       "      <td>335</td>\n",
       "      <td>223</td>\n",
       "      <td>1297</td>\n",
       "      <td>252</td>\n",
       "      <td>196</td>\n",
       "      <td>368</td>\n",
       "      <td>299</td>\n",
       "      <td>312</td>\n",
       "      <td>...</td>\n",
       "      <td>162</td>\n",
       "      <td>836</td>\n",
       "      <td>Female</td>\n",
       "      <td>Combat Support</td>\n",
       "      <td>Texas</td>\n",
       "      <td>Hispanic</td>\n",
       "      <td>51</td>\n",
       "      <td>67</td>\n",
       "      <td>180</td>\n",
       "      <td>Right hand</td>\n",
       "    </tr>\n",
       "    <tr>\n",
       "      <th>6064</th>\n",
       "      <td>262</td>\n",
       "      <td>1324</td>\n",
       "      <td>301</td>\n",
       "      <td>202</td>\n",
       "      <td>1204</td>\n",
       "      <td>236</td>\n",
       "      <td>181</td>\n",
       "      <td>378</td>\n",
       "      <td>294</td>\n",
       "      <td>287</td>\n",
       "      <td>...</td>\n",
       "      <td>157</td>\n",
       "      <td>804</td>\n",
       "      <td>Female</td>\n",
       "      <td>Combat Support</td>\n",
       "      <td>Texas</td>\n",
       "      <td>Hispanic</td>\n",
       "      <td>40</td>\n",
       "      <td>63</td>\n",
       "      <td>150</td>\n",
       "      <td>Right hand</td>\n",
       "    </tr>\n",
       "    <tr>\n",
       "      <th>6065</th>\n",
       "      <td>260</td>\n",
       "      <td>1334</td>\n",
       "      <td>318</td>\n",
       "      <td>213</td>\n",
       "      <td>1259</td>\n",
       "      <td>234</td>\n",
       "      <td>183</td>\n",
       "      <td>363</td>\n",
       "      <td>332</td>\n",
       "      <td>299</td>\n",
       "      <td>...</td>\n",
       "      <td>159</td>\n",
       "      <td>774</td>\n",
       "      <td>Female</td>\n",
       "      <td>Combat Support</td>\n",
       "      <td>Texas</td>\n",
       "      <td>Black</td>\n",
       "      <td>40</td>\n",
       "      <td>66</td>\n",
       "      <td>168</td>\n",
       "      <td>Right hand</td>\n",
       "    </tr>\n",
       "    <tr>\n",
       "      <th>6066</th>\n",
       "      <td>205</td>\n",
       "      <td>1293</td>\n",
       "      <td>302</td>\n",
       "      <td>199</td>\n",
       "      <td>1207</td>\n",
       "      <td>213</td>\n",
       "      <td>163</td>\n",
       "      <td>376</td>\n",
       "      <td>276</td>\n",
       "      <td>280</td>\n",
       "      <td>...</td>\n",
       "      <td>146</td>\n",
       "      <td>769</td>\n",
       "      <td>Female</td>\n",
       "      <td>Combat Support</td>\n",
       "      <td>Texas</td>\n",
       "      <td>Hispanic</td>\n",
       "      <td>31</td>\n",
       "      <td>63</td>\n",
       "      <td>133</td>\n",
       "      <td>Right hand</td>\n",
       "    </tr>\n",
       "    <tr>\n",
       "      <th>6067</th>\n",
       "      <td>238</td>\n",
       "      <td>1346</td>\n",
       "      <td>308</td>\n",
       "      <td>210</td>\n",
       "      <td>1256</td>\n",
       "      <td>236</td>\n",
       "      <td>188</td>\n",
       "      <td>361</td>\n",
       "      <td>285</td>\n",
       "      <td>279</td>\n",
       "      <td>...</td>\n",
       "      <td>154</td>\n",
       "      <td>797</td>\n",
       "      <td>Female</td>\n",
       "      <td>Combat Support</td>\n",
       "      <td>Texas</td>\n",
       "      <td>Hispanic</td>\n",
       "      <td>27</td>\n",
       "      <td>66</td>\n",
       "      <td>132</td>\n",
       "      <td>Right hand</td>\n",
       "    </tr>\n",
       "  </tbody>\n",
       "</table>\n",
       "<p>5769 rows × 101 columns</p>\n",
       "</div>"
      ],
      "text/plain": [
       "      abdominalextensiondepthsitting  acromialheight  acromionradialelength  \\\n",
       "0                                266            1467                    337   \n",
       "1                                233            1395                    326   \n",
       "2                                287            1430                    341   \n",
       "3                                234            1347                    310   \n",
       "4                                250            1585                    372   \n",
       "...                              ...             ...                    ...   \n",
       "6063                             285            1392                    335   \n",
       "6064                             262            1324                    301   \n",
       "6065                             260            1334                    318   \n",
       "6066                             205            1293                    302   \n",
       "6067                             238            1346                    308   \n",
       "\n",
       "      anklecircumference  axillaheight  balloffootcircumference  \\\n",
       "0                    222          1347                      253   \n",
       "1                    220          1293                      245   \n",
       "2                    230          1327                      256   \n",
       "3                    230          1239                      262   \n",
       "4                    247          1478                      267   \n",
       "...                  ...           ...                      ...   \n",
       "6063                 223          1297                      252   \n",
       "6064                 202          1204                      236   \n",
       "6065                 213          1259                      234   \n",
       "6066                 199          1207                      213   \n",
       "6067                 210          1256                      236   \n",
       "\n",
       "      balloffootlength  biacromialbreadth  bicepscircumferenceflexed  \\\n",
       "0                  202                401                        369   \n",
       "1                  193                394                        338   \n",
       "2                  196                427                        408   \n",
       "3                  199                401                        359   \n",
       "4                  224                435                        356   \n",
       "...                ...                ...                        ...   \n",
       "6063               196                368                        299   \n",
       "6064               181                378                        294   \n",
       "6065               183                363                        332   \n",
       "6066               163                376                        276   \n",
       "6067               188                361                        285   \n",
       "\n",
       "      bicristalbreadth  ...  wristcircumference  wristheight  Gender  \\\n",
       "0                  274  ...                 175          853    Male   \n",
       "1                  257  ...                 167          815    Male   \n",
       "2                  261  ...                 180          831    Male   \n",
       "3                  262  ...                 176          793    Male   \n",
       "4                  263  ...                 188          954    Male   \n",
       "...                ...  ...                 ...          ...     ...   \n",
       "6063               312  ...                 162          836  Female   \n",
       "6064               287  ...                 157          804  Female   \n",
       "6065               299  ...                 159          774  Female   \n",
       "6066               280  ...                 146          769  Female   \n",
       "6067               279  ...                 154          797  Female   \n",
       "\n",
       "                      Branch  SubjectsBirthLocation   DODRace  Age  Heightin  \\\n",
       "0                Combat Arms           North Dakota     White   41        71   \n",
       "1             Combat Support               New York     White   35        68   \n",
       "2             Combat Support               New York     Black   42        68   \n",
       "3     Combat Service Support              Wisconsin     White   31        66   \n",
       "4     Combat Service Support         North Carolina     Black   21        77   \n",
       "...                      ...                    ...       ...  ...       ...   \n",
       "6063          Combat Support                  Texas  Hispanic   51        67   \n",
       "6064          Combat Support                  Texas  Hispanic   40        63   \n",
       "6065          Combat Support                  Texas     Black   40        66   \n",
       "6066          Combat Support                  Texas  Hispanic   31        63   \n",
       "6067          Combat Support                  Texas  Hispanic   27        66   \n",
       "\n",
       "      Weightlbs  WritingPreference  \n",
       "0           180         Right hand  \n",
       "1           160          Left hand  \n",
       "2           205          Left hand  \n",
       "3           175         Right hand  \n",
       "4           213         Right hand  \n",
       "...         ...                ...  \n",
       "6063        180         Right hand  \n",
       "6064        150         Right hand  \n",
       "6065        168         Right hand  \n",
       "6066        133         Right hand  \n",
       "6067        132         Right hand  \n",
       "\n",
       "[5769 rows x 101 columns]"
      ]
     },
     "execution_count": 38,
     "metadata": {},
     "output_type": "execute_result"
    }
   ],
   "source": [
    "data = data[(data[\"DODRace\"] == \"White\") | (data[\"DODRace\"] == \"Black\") | (data[\"DODRace\"] == \"Hispanic\")]\n",
    "data"
   ]
  },
  {
   "cell_type": "code",
   "execution_count": 39,
   "metadata": {
    "colab": {
     "base_uri": "https://localhost:8080/"
    },
    "id": "zNv9m7b0sWuN",
    "outputId": "830e0274-9b71-4157-b738-b793a0172da0"
   },
   "outputs": [
    {
     "name": "stdout",
     "output_type": "stream",
     "text": [
      "<class 'pandas.core.frame.DataFrame'>\n",
      "Int64Index: 5769 entries, 0 to 6067\n",
      "Columns: 101 entries, abdominalextensiondepthsitting to WritingPreference\n",
      "dtypes: int64(96), object(5)\n",
      "memory usage: 4.5+ MB\n"
     ]
    }
   ],
   "source": [
    "data.info()"
   ]
  },
  {
   "cell_type": "code",
   "execution_count": 40,
   "metadata": {},
   "outputs": [],
   "source": [
    "data.reset_index(drop=True, inplace=True)"
   ]
  },
  {
   "cell_type": "code",
   "execution_count": 41,
   "metadata": {
    "colab": {
     "base_uri": "https://localhost:8080/",
     "height": 419
    },
    "id": "hsbPv9vdq-UW",
    "outputId": "319907ba-33d0-48dc-baa7-fd5de6487ae8"
   },
   "outputs": [
    {
     "data": {
      "text/html": [
       "<div>\n",
       "<style scoped>\n",
       "    .dataframe tbody tr th:only-of-type {\n",
       "        vertical-align: middle;\n",
       "    }\n",
       "\n",
       "    .dataframe tbody tr th {\n",
       "        vertical-align: top;\n",
       "    }\n",
       "\n",
       "    .dataframe thead th {\n",
       "        text-align: right;\n",
       "    }\n",
       "</style>\n",
       "<table border=\"1\" class=\"dataframe\">\n",
       "  <thead>\n",
       "    <tr style=\"text-align: right;\">\n",
       "      <th></th>\n",
       "      <th>count</th>\n",
       "      <th>mean</th>\n",
       "      <th>std</th>\n",
       "      <th>min</th>\n",
       "      <th>25%</th>\n",
       "      <th>50%</th>\n",
       "      <th>75%</th>\n",
       "      <th>max</th>\n",
       "    </tr>\n",
       "  </thead>\n",
       "  <tbody>\n",
       "    <tr>\n",
       "      <th>abdominalextensiondepthsitting</th>\n",
       "      <td>5769.0</td>\n",
       "      <td>247.254290</td>\n",
       "      <td>37.457748</td>\n",
       "      <td>155.0</td>\n",
       "      <td>220.0</td>\n",
       "      <td>243.0</td>\n",
       "      <td>272.0</td>\n",
       "      <td>451.0</td>\n",
       "    </tr>\n",
       "    <tr>\n",
       "      <th>acromialheight</th>\n",
       "      <td>5769.0</td>\n",
       "      <td>1408.630265</td>\n",
       "      <td>78.303123</td>\n",
       "      <td>1146.0</td>\n",
       "      <td>1353.0</td>\n",
       "      <td>1412.0</td>\n",
       "      <td>1464.0</td>\n",
       "      <td>1683.0</td>\n",
       "    </tr>\n",
       "    <tr>\n",
       "      <th>acromionradialelength</th>\n",
       "      <td>5769.0</td>\n",
       "      <td>328.071590</td>\n",
       "      <td>20.444554</td>\n",
       "      <td>249.0</td>\n",
       "      <td>314.0</td>\n",
       "      <td>328.0</td>\n",
       "      <td>342.0</td>\n",
       "      <td>393.0</td>\n",
       "    </tr>\n",
       "    <tr>\n",
       "      <th>anklecircumference</th>\n",
       "      <td>5769.0</td>\n",
       "      <td>225.201768</td>\n",
       "      <td>15.965783</td>\n",
       "      <td>156.0</td>\n",
       "      <td>214.0</td>\n",
       "      <td>225.0</td>\n",
       "      <td>235.0</td>\n",
       "      <td>293.0</td>\n",
       "    </tr>\n",
       "    <tr>\n",
       "      <th>axillaheight</th>\n",
       "      <td>5769.0</td>\n",
       "      <td>1301.902583</td>\n",
       "      <td>71.260913</td>\n",
       "      <td>1062.0</td>\n",
       "      <td>1252.0</td>\n",
       "      <td>1304.0</td>\n",
       "      <td>1351.0</td>\n",
       "      <td>1553.0</td>\n",
       "    </tr>\n",
       "    <tr>\n",
       "      <th>...</th>\n",
       "      <td>...</td>\n",
       "      <td>...</td>\n",
       "      <td>...</td>\n",
       "      <td>...</td>\n",
       "      <td>...</td>\n",
       "      <td>...</td>\n",
       "      <td>...</td>\n",
       "      <td>...</td>\n",
       "    </tr>\n",
       "    <tr>\n",
       "      <th>wristcircumference</th>\n",
       "      <td>5769.0</td>\n",
       "      <td>169.308372</td>\n",
       "      <td>13.060900</td>\n",
       "      <td>124.0</td>\n",
       "      <td>159.0</td>\n",
       "      <td>171.0</td>\n",
       "      <td>179.0</td>\n",
       "      <td>216.0</td>\n",
       "    </tr>\n",
       "    <tr>\n",
       "      <th>wristheight</th>\n",
       "      <td>5769.0</td>\n",
       "      <td>831.334547</td>\n",
       "      <td>47.321580</td>\n",
       "      <td>688.0</td>\n",
       "      <td>798.0</td>\n",
       "      <td>831.0</td>\n",
       "      <td>864.0</td>\n",
       "      <td>1009.0</td>\n",
       "    </tr>\n",
       "    <tr>\n",
       "      <th>Age</th>\n",
       "      <td>5769.0</td>\n",
       "      <td>29.776391</td>\n",
       "      <td>8.706610</td>\n",
       "      <td>17.0</td>\n",
       "      <td>23.0</td>\n",
       "      <td>28.0</td>\n",
       "      <td>36.0</td>\n",
       "      <td>58.0</td>\n",
       "    </tr>\n",
       "    <tr>\n",
       "      <th>Heightin</th>\n",
       "      <td>5769.0</td>\n",
       "      <td>68.359508</td>\n",
       "      <td>3.836336</td>\n",
       "      <td>56.0</td>\n",
       "      <td>66.0</td>\n",
       "      <td>69.0</td>\n",
       "      <td>71.0</td>\n",
       "      <td>94.0</td>\n",
       "    </tr>\n",
       "    <tr>\n",
       "      <th>Weightlbs</th>\n",
       "      <td>5769.0</td>\n",
       "      <td>175.578263</td>\n",
       "      <td>33.600479</td>\n",
       "      <td>0.0</td>\n",
       "      <td>150.0</td>\n",
       "      <td>175.0</td>\n",
       "      <td>197.0</td>\n",
       "      <td>321.0</td>\n",
       "    </tr>\n",
       "  </tbody>\n",
       "</table>\n",
       "<p>96 rows × 8 columns</p>\n",
       "</div>"
      ],
      "text/plain": [
       "                                 count         mean        std     min  \\\n",
       "abdominalextensiondepthsitting  5769.0   247.254290  37.457748   155.0   \n",
       "acromialheight                  5769.0  1408.630265  78.303123  1146.0   \n",
       "acromionradialelength           5769.0   328.071590  20.444554   249.0   \n",
       "anklecircumference              5769.0   225.201768  15.965783   156.0   \n",
       "axillaheight                    5769.0  1301.902583  71.260913  1062.0   \n",
       "...                                ...          ...        ...     ...   \n",
       "wristcircumference              5769.0   169.308372  13.060900   124.0   \n",
       "wristheight                     5769.0   831.334547  47.321580   688.0   \n",
       "Age                             5769.0    29.776391   8.706610    17.0   \n",
       "Heightin                        5769.0    68.359508   3.836336    56.0   \n",
       "Weightlbs                       5769.0   175.578263  33.600479     0.0   \n",
       "\n",
       "                                   25%     50%     75%     max  \n",
       "abdominalextensiondepthsitting   220.0   243.0   272.0   451.0  \n",
       "acromialheight                  1353.0  1412.0  1464.0  1683.0  \n",
       "acromionradialelength            314.0   328.0   342.0   393.0  \n",
       "anklecircumference               214.0   225.0   235.0   293.0  \n",
       "axillaheight                    1252.0  1304.0  1351.0  1553.0  \n",
       "...                                ...     ...     ...     ...  \n",
       "wristcircumference               159.0   171.0   179.0   216.0  \n",
       "wristheight                      798.0   831.0   864.0  1009.0  \n",
       "Age                               23.0    28.0    36.0    58.0  \n",
       "Heightin                          66.0    69.0    71.0    94.0  \n",
       "Weightlbs                        150.0   175.0   197.0   321.0  \n",
       "\n",
       "[96 rows x 8 columns]"
      ]
     },
     "execution_count": 41,
     "metadata": {},
     "output_type": "execute_result"
    }
   ],
   "source": [
    "data.describe().T"
   ]
  },
  {
   "cell_type": "code",
   "execution_count": 42,
   "metadata": {
    "colab": {
     "base_uri": "https://localhost:8080/",
     "height": 34
    },
    "id": "QXRdvzfrrJbc",
    "outputId": "615109d4-d144-4b49-ef7d-ebebc5ed65f7"
   },
   "outputs": [
    {
     "data": {
      "application/javascript": [
       "\n",
       "        if (window._pyforest_update_imports_cell) { window._pyforest_update_imports_cell('import numpy as np\\nimport pandas as pd'); }\n",
       "    "
      ],
      "text/plain": [
       "<IPython.core.display.Javascript object>"
      ]
     },
     "metadata": {},
     "output_type": "display_data"
    },
    {
     "name": "stdout",
     "output_type": "stream",
     "text": [
      "Weightlbs\n"
     ]
    }
   ],
   "source": [
    "for col in data.select_dtypes(include=[np.number]).columns:\n",
    "    if data[col].min() == 0:\n",
    "        print(col)\n"
   ]
  },
  {
   "cell_type": "code",
   "execution_count": 43,
   "metadata": {
    "colab": {
     "base_uri": "https://localhost:8080/"
    },
    "id": "SarU2AL0tWje",
    "outputId": "194725f7-843a-4ce7-fb46-827aab186412"
   },
   "outputs": [
    {
     "data": {
      "text/plain": [
       "824"
      ]
     },
     "execution_count": 43,
     "metadata": {},
     "output_type": "execute_result"
    }
   ],
   "source": [
    "data[\"Weightlbs\"].argmin()"
   ]
  },
  {
   "cell_type": "code",
   "execution_count": 44,
   "metadata": {
    "id": "_FqT15Rdxa3G"
   },
   "outputs": [],
   "source": [
    "data.drop(index = data[\"Weightlbs\"].argmin(), inplace=True)"
   ]
  },
  {
   "cell_type": "code",
   "execution_count": 45,
   "metadata": {
    "id": "51iRAxnsx1Do"
   },
   "outputs": [],
   "source": [
    "data.reset_index(drop=True, inplace=True)"
   ]
  },
  {
   "cell_type": "code",
   "execution_count": 46,
   "metadata": {
    "colab": {
     "base_uri": "https://localhost:8080/",
     "height": 1000
    },
    "id": "jXWy_s9Ty0Oq",
    "outputId": "47bd0e09-b159-40d5-a783-ad554030fb24"
   },
   "outputs": [
    {
     "data": {
      "application/javascript": [
       "\n",
       "        if (window._pyforest_update_imports_cell) { window._pyforest_update_imports_cell('import numpy as np\\nimport pandas as pd\\nimport matplotlib.pyplot as plt'); }\n",
       "    "
      ],
      "text/plain": [
       "<IPython.core.display.Javascript object>"
      ]
     },
     "metadata": {},
     "output_type": "display_data"
    },
    {
     "data": {
      "application/javascript": [
       "\n",
       "        if (window._pyforest_update_imports_cell) { window._pyforest_update_imports_cell('import numpy as np\\nimport pandas as pd\\nimport seaborn as sns\\nimport matplotlib.pyplot as plt'); }\n",
       "    "
      ],
      "text/plain": [
       "<IPython.core.display.Javascript object>"
      ]
     },
     "metadata": {},
     "output_type": "display_data"
    },
    {
     "data": {
      "text/plain": [
       "<AxesSubplot:>"
      ]
     },
     "execution_count": 46,
     "metadata": {},
     "output_type": "execute_result"
    },
    {
     "data": {
      "image/png": "[encoded data removed]",
      "text/plain": [
       "<Figure size 1440x1440 with 2 Axes>"
      ]
     },
     "metadata": {
      "needs_background": "light"
     },
     "output_type": "display_data"
    }
   ],
   "source": [
    "plt.figure(figsize=(20,20))\n",
    "sns.heatmap(data.corr(), cmap =\"coolwarm\")"
   ]
  },
  {
   "cell_type": "code",
   "execution_count": 47,
   "metadata": {},
   "outputs": [
    {
     "name": "stdout",
     "output_type": "stream",
     "text": [
      "Number of strong corelated features: done\n"
     ]
    }
   ],
   "source": [
    "df_temp = data.corr()\n",
    "\n",
    "count = \"done\"\n",
    "feature =[]\n",
    "collinear=[]\n",
    "for col in df_temp.columns:\n",
    "    for i in df_temp.index:\n",
    "        if (df_temp[col][i]> .9 and df_temp[col][i] < 1) or (df_temp[col][i]< -.9 and df_temp[col][i] > -1) :\n",
    "                feature.append(col)\n",
    "                collinear.append(i)\n",
    "                # print(f\"multicolinearity alert in between {col} - {i}\")\n",
    "print(\"Number of strong corelated features:\", count) "
   ]
  },
  {
   "cell_type": "code",
   "execution_count": 48,
   "metadata": {},
   "outputs": [
    {
     "data": {
      "application/javascript": [
       "\n",
       "        if (window._pyforest_update_imports_cell) { window._pyforest_update_imports_cell('import numpy as np\\nimport pandas as pd\\nimport seaborn as sns\\nimport matplotlib.pyplot as plt'); }\n",
       "    "
      ],
      "text/plain": [
       "<IPython.core.display.Javascript object>"
      ]
     },
     "metadata": {},
     "output_type": "display_data"
    },
    {
     "data": {
      "text/html": [
       "<div>\n",
       "<style scoped>\n",
       "    .dataframe tbody tr th:only-of-type {\n",
       "        vertical-align: middle;\n",
       "    }\n",
       "\n",
       "    .dataframe tbody tr th {\n",
       "        vertical-align: top;\n",
       "    }\n",
       "\n",
       "    .dataframe thead th {\n",
       "        text-align: right;\n",
       "    }\n",
       "</style>\n",
       "<table border=\"1\" class=\"dataframe\">\n",
       "  <thead>\n",
       "    <tr style=\"text-align: right;\">\n",
       "      <th></th>\n",
       "      <th>feature</th>\n",
       "      <th>collinear</th>\n",
       "    </tr>\n",
       "  </thead>\n",
       "  <tbody>\n",
       "    <tr>\n",
       "      <th>0</th>\n",
       "      <td>abdominalextensiondepthsitting</td>\n",
       "      <td>waistcircumference</td>\n",
       "    </tr>\n",
       "    <tr>\n",
       "      <th>1</th>\n",
       "      <td>abdominalextensiondepthsitting</td>\n",
       "      <td>waistdepth</td>\n",
       "    </tr>\n",
       "    <tr>\n",
       "      <th>2</th>\n",
       "      <td>acromialheight</td>\n",
       "      <td>axillaheight</td>\n",
       "    </tr>\n",
       "    <tr>\n",
       "      <th>3</th>\n",
       "      <td>acromialheight</td>\n",
       "      <td>cervicaleheight</td>\n",
       "    </tr>\n",
       "    <tr>\n",
       "      <th>4</th>\n",
       "      <td>acromialheight</td>\n",
       "      <td>chestheight</td>\n",
       "    </tr>\n",
       "    <tr>\n",
       "      <th>...</th>\n",
       "      <td>...</td>\n",
       "      <td>...</td>\n",
       "    </tr>\n",
       "    <tr>\n",
       "      <th>297</th>\n",
       "      <td>Heightin</td>\n",
       "      <td>chestheight</td>\n",
       "    </tr>\n",
       "    <tr>\n",
       "      <th>298</th>\n",
       "      <td>Heightin</td>\n",
       "      <td>stature</td>\n",
       "    </tr>\n",
       "    <tr>\n",
       "      <th>299</th>\n",
       "      <td>Heightin</td>\n",
       "      <td>suprasternaleheight</td>\n",
       "    </tr>\n",
       "    <tr>\n",
       "      <th>300</th>\n",
       "      <td>Heightin</td>\n",
       "      <td>waistheightomphalion</td>\n",
       "    </tr>\n",
       "    <tr>\n",
       "      <th>301</th>\n",
       "      <td>Weightlbs</td>\n",
       "      <td>weightkg</td>\n",
       "    </tr>\n",
       "  </tbody>\n",
       "</table>\n",
       "<p>302 rows × 2 columns</p>\n",
       "</div>"
      ],
      "text/plain": [
       "                            feature             collinear\n",
       "0    abdominalextensiondepthsitting    waistcircumference\n",
       "1    abdominalextensiondepthsitting            waistdepth\n",
       "2                    acromialheight          axillaheight\n",
       "3                    acromialheight       cervicaleheight\n",
       "4                    acromialheight           chestheight\n",
       "..                              ...                   ...\n",
       "297                        Heightin           chestheight\n",
       "298                        Heightin               stature\n",
       "299                        Heightin   suprasternaleheight\n",
       "300                        Heightin  waistheightomphalion\n",
       "301                       Weightlbs              weightkg\n",
       "\n",
       "[302 rows x 2 columns]"
      ]
     },
     "execution_count": 48,
     "metadata": {},
     "output_type": "execute_result"
    }
   ],
   "source": [
    "df_col = pd.DataFrame([feature, collinear], index=[\"feature\",\"collinear\"]).T\n",
    "df_col"
   ]
  },
  {
   "cell_type": "code",
   "execution_count": 49,
   "metadata": {},
   "outputs": [
    {
     "data": {
      "text/plain": [
       "feature\n",
       "kneeheightsitting        19\n",
       "cervicaleheight          15\n",
       "tenthribheight           15\n",
       "waistheightomphalion     15\n",
       "axillaheight             15\n",
       "                         ..\n",
       "handbreadth               1\n",
       "neckcircumferencebase     1\n",
       "neckcircumference         1\n",
       "Weightlbs                 1\n",
       "hipbreadthsitting         1\n",
       "Length: 61, dtype: int64"
      ]
     },
     "execution_count": 49,
     "metadata": {},
     "output_type": "execute_result"
    }
   ],
   "source": [
    "df_col.value_counts(\"feature\")"
   ]
  },
  {
   "cell_type": "markdown",
   "metadata": {
    "id": "CS5-GZy0sl4s"
   },
   "source": [
    "# DATA Preprocessing"
   ]
  },
  {
   "cell_type": "code",
   "execution_count": 50,
   "metadata": {
    "id": "PBMDscEv1GKe"
   },
   "outputs": [
    {
     "data": {
      "application/javascript": [
       "\n",
       "        if (window._pyforest_update_imports_cell) { window._pyforest_update_imports_cell('import numpy as np\\nimport pandas as pd\\nimport seaborn as sns\\nimport matplotlib.pyplot as plt'); }\n",
       "    "
      ],
      "text/plain": [
       "<IPython.core.display.Javascript object>"
      ]
     },
     "metadata": {},
     "output_type": "display_data"
    }
   ],
   "source": [
    "X= data.drop(\"DODRace\",axis=1)\n",
    "X = pd.get_dummies(data=X,drop_first=True)\n",
    "y= data.DODRace"
   ]
  },
  {
   "cell_type": "code",
   "execution_count": 51,
   "metadata": {
    "colab": {
     "base_uri": "https://localhost:8080/",
     "height": 17
    },
    "id": "eKvQ7iok004J",
    "outputId": "477fba23-3aba-492e-86b3-9b37881e09c3"
   },
   "outputs": [
    {
     "data": {
      "application/javascript": [
       "\n",
       "        if (window._pyforest_update_imports_cell) { window._pyforest_update_imports_cell('import numpy as np\\nimport seaborn as sns\\nimport matplotlib.pyplot as plt\\nfrom sklearn.model_selection import train_test_split\\nimport pandas as pd'); }\n",
       "    "
      ],
      "text/plain": [
       "<IPython.core.display.Javascript object>"
      ]
     },
     "metadata": {},
     "output_type": "display_data"
    }
   ],
   "source": [
    "X_train, X_test, y_train, y_test = train_test_split(X, y, test_size=0.2, random_state=6, stratify =y)"
   ]
  },
  {
   "cell_type": "code",
   "execution_count": 52,
   "metadata": {},
   "outputs": [],
   "source": [
    "scaler =MinMaxScaler()\n",
    "X_train = scaler.fit_transform(X_train)\n",
    "X_test = scaler.transform(X_test)"
   ]
  },
  {
   "cell_type": "markdown",
   "metadata": {
    "id": "zfi_NOw0s2fM"
   },
   "source": [
    "# Modelling"
   ]
  },
  {
   "cell_type": "markdown",
   "metadata": {},
   "source": [
    "## 1. Logistic model"
   ]
  },
  {
   "cell_type": "code",
   "execution_count": 53,
   "metadata": {},
   "outputs": [
    {
     "name": "stdout",
     "output_type": "stream",
     "text": [
      "test scores \n",
      "--------------\n",
      "[[239  11  10]\n",
      " [  6 104  25]\n",
      " [ 16  99 644]]\n",
      "              precision    recall  f1-score   support\n",
      "\n",
      "       Black       0.92      0.92      0.92       260\n",
      "    Hispanic       0.49      0.77      0.60       135\n",
      "       White       0.95      0.85      0.90       759\n",
      "\n",
      "    accuracy                           0.86      1154\n",
      "   macro avg       0.78      0.85      0.80      1154\n",
      "weighted avg       0.89      0.86      0.87      1154\n",
      "\n"
     ]
    },
    {
     "data": {
      "text/plain": [
       "<sklearn.metrics._plot.confusion_matrix.ConfusionMatrixDisplay at 0x1cc2a6d7df0>"
      ]
     },
     "execution_count": 53,
     "metadata": {},
     "output_type": "execute_result"
    },
    {
     "data": {
      "image/png": "[encoded data removed]",
      "text/plain": [
       "<Figure size 432x288 with 2 Axes>"
      ]
     },
     "metadata": {
      "needs_background": "light"
     },
     "output_type": "display_data"
    }
   ],
   "source": [
    "log_model = LogisticRegression(class_weight='balanced',max_iter=10000,random_state=6)\n",
    "\n",
    "log_model.fit(X_train,y_train)\n",
    "\n",
    "y_pred = log_model.predict(X_test)\n",
    "\n",
    "print(\"test scores\",\"\\n--------------\")\n",
    "\n",
    "print(confusion_matrix(y_test,y_pred))\n",
    "print(classification_report(y_test, y_pred))\n",
    "plot_confusion_matrix(log_model,X_test,y_test,values_format='.0f')"
   ]
  },
  {
   "cell_type": "code",
   "execution_count": 54,
   "metadata": {},
   "outputs": [
    {
     "name": "stdout",
     "output_type": "stream",
     "text": [
      "train scores \n",
      "--------------\n",
      "[[ 966   46   26]\n",
      " [  21  453   69]\n",
      " [  64  353 2616]]\n",
      "              precision    recall  f1-score   support\n",
      "\n",
      "       Black       0.92      0.93      0.92      1038\n",
      "    Hispanic       0.53      0.83      0.65       543\n",
      "       White       0.96      0.86      0.91      3033\n",
      "\n",
      "    accuracy                           0.87      4614\n",
      "   macro avg       0.81      0.88      0.83      4614\n",
      "weighted avg       0.90      0.87      0.88      4614\n",
      "\n"
     ]
    },
    {
     "data": {
      "image/png": "[encoded data removed]",
      "text/plain": [
       "<Figure size 432x288 with 2 Axes>"
      ]
     },
     "metadata": {
      "needs_background": "light"
     },
     "output_type": "display_data"
    }
   ],
   "source": [
    "y_pred = log_model.predict(X_train)\n",
    "print(\"train scores\",\"\\n--------------\")\n",
    "print(confusion_matrix(y_train,y_pred))\n",
    "print(classification_report(y_train, y_pred))\n",
    "plot_confusion_matrix(log_model,X_train,y_train);#x"
   ]
  },
  {
   "cell_type": "code",
   "execution_count": 55,
   "metadata": {},
   "outputs": [],
   "source": [
    "f1score= make_scorer(f1_score, average=\"weighted\")\n"
   ]
  },
  {
   "cell_type": "code",
   "execution_count": 56,
   "metadata": {},
   "outputs": [
    {
     "name": "stdout",
     "output_type": "stream",
     "text": [
      "[0.8656, 0.8698, 0.8635, 0.874, 0.8708] \n",
      "\n",
      " f1score : %86.87, std : %0.374 \n",
      "\n"
     ]
    }
   ],
   "source": [
    "model = LogisticRegression(class_weight='balanced',max_iter=10000,random_state=6)\n",
    "scores = cross_val_score(model, X_train, y_train, cv = 5, scoring = f1score, n_jobs = -1)\n",
    "print([round(i, 4) for i in scores], \"\\n\")\n",
    "print(f\" f1score : %{scores.mean()*100:.2f}, std : %{scores.std()*100:.3f} \\n\")"
   ]
  },
  {
   "cell_type": "code",
   "execution_count": 57,
   "metadata": {},
   "outputs": [],
   "source": [
    "f1_Hispanic =  make_scorer(f1_score, average=None, labels=[\"Hispanic\"] )"
   ]
  },
  {
   "cell_type": "code",
   "execution_count": 58,
   "metadata": {},
   "outputs": [],
   "source": [
    "param_grid = { \"class_weight\" : [\"balanced\", None],\n",
    "              'penalty': [\"l1\",\"l2\"],\n",
    "              'solver' : ['saga','lbfgs'],\n",
    "              }"
   ]
  },
  {
   "cell_type": "code",
   "execution_count": 59,
   "metadata": {},
   "outputs": [],
   "source": [
    "model = LogisticRegression(class_weight='balanced',max_iter=10000,random_state=6)\n",
    "log_model_grid = GridSearchCV(model, param_grid, verbose=3, scoring=f1_Hispanic, refit=True,n_jobs=-1)"
   ]
  },
  {
   "cell_type": "code",
   "execution_count": 60,
   "metadata": {},
   "outputs": [
    {
     "name": "stdout",
     "output_type": "stream",
     "text": [
      "Fitting 5 folds for each of 8 candidates, totalling 40 fits\n"
     ]
    },
    {
     "data": {
      "text/plain": [
       "GridSearchCV(estimator=LogisticRegression(class_weight='balanced',\n",
       "                                          max_iter=10000, random_state=6),\n",
       "             n_jobs=-1,\n",
       "             param_grid={'class_weight': ['balanced', None],\n",
       "                         'penalty': ['l1', 'l2'], 'solver': ['saga', 'lbfgs']},\n",
       "             scoring=make_scorer(f1_score, average=None, labels=['Hispanic']),\n",
       "             verbose=3)"
      ]
     },
     "execution_count": 60,
     "metadata": {},
     "output_type": "execute_result"
    }
   ],
   "source": [
    "log_model_grid.fit(X_train,y_train)"
   ]
  },
  {
   "cell_type": "code",
   "execution_count": 61,
   "metadata": {},
   "outputs": [
    {
     "data": {
      "text/plain": [
       "{'class_weight': None, 'penalty': 'l2', 'solver': 'saga'}"
      ]
     },
     "execution_count": 61,
     "metadata": {},
     "output_type": "execute_result"
    }
   ],
   "source": [
    "log_model_grid.best_params_"
   ]
  },
  {
   "cell_type": "code",
   "execution_count": 62,
   "metadata": {},
   "outputs": [
    {
     "name": "stdout",
     "output_type": "stream",
     "text": [
      "[[234   3  23]\n",
      " [  8  73  54]\n",
      " [  7  15 737]]\n",
      "              precision    recall  f1-score   support\n",
      "\n",
      "       Black       0.94      0.90      0.92       260\n",
      "    Hispanic       0.80      0.54      0.65       135\n",
      "       White       0.91      0.97      0.94       759\n",
      "\n",
      "    accuracy                           0.90      1154\n",
      "   macro avg       0.88      0.80      0.83      1154\n",
      "weighted avg       0.90      0.90      0.90      1154\n",
      "\n"
     ]
    },
    {
     "data": {
      "image/png": "[encoded data removed]",
      "text/plain": [
       "<Figure size 432x288 with 2 Axes>"
      ]
     },
     "metadata": {
      "needs_background": "light"
     },
     "output_type": "display_data"
    }
   ],
   "source": [
    "y_pred = log_model_grid.predict(X_test)\n",
    "print(confusion_matrix(y_test, y_pred))\n",
    "print(classification_report(y_test, y_pred))\n",
    "plot_confusion_matrix(log_model_grid,X_test,y_test);"
   ]
  },
  {
   "cell_type": "code",
   "execution_count": 63,
   "metadata": {},
   "outputs": [
    {
     "data": {
      "application/javascript": [
       "\n",
       "        if (window._pyforest_update_imports_cell) { window._pyforest_update_imports_cell('import numpy as np\\nimport seaborn as sns\\nimport matplotlib.pyplot as plt\\nfrom sklearn.model_selection import train_test_split\\nimport pandas as pd'); }\n",
       "    "
      ],
      "text/plain": [
       "<IPython.core.display.Javascript object>"
      ]
     },
     "metadata": {},
     "output_type": "display_data"
    },
    {
     "data": {
      "application/javascript": [
       "\n",
       "        if (window._pyforest_update_imports_cell) { window._pyforest_update_imports_cell('import numpy as np\\nimport seaborn as sns\\nimport matplotlib.pyplot as plt\\nfrom sklearn.model_selection import train_test_split\\nimport pandas as pd'); }\n",
       "    "
      ],
      "text/plain": [
       "<IPython.core.display.Javascript object>"
      ]
     },
     "metadata": {},
     "output_type": "display_data"
    },
    {
     "data": {
      "application/javascript": [
       "\n",
       "        if (window._pyforest_update_imports_cell) { window._pyforest_update_imports_cell('import numpy as np\\nimport seaborn as sns\\nimport matplotlib.pyplot as plt\\nfrom sklearn.model_selection import train_test_split\\nimport pandas as pd'); }\n",
       "    "
      ],
      "text/plain": [
       "<IPython.core.display.Javascript object>"
      ]
     },
     "metadata": {},
     "output_type": "display_data"
    },
    {
     "data": {
      "application/javascript": [
       "\n",
       "        if (window._pyforest_update_imports_cell) { window._pyforest_update_imports_cell('import numpy as np\\nimport seaborn as sns\\nimport matplotlib.pyplot as plt\\nfrom sklearn.model_selection import train_test_split\\nimport pandas as pd'); }\n",
       "    "
      ],
      "text/plain": [
       "<IPython.core.display.Javascript object>"
      ]
     },
     "metadata": {},
     "output_type": "display_data"
    },
    {
     "data": {
      "image/png": "[encoded data removed]",
      "text/plain": [
       "<Figure size 1152x720 with 1 Axes>"
      ]
     },
     "metadata": {
      "needs_background": "light"
     },
     "output_type": "display_data"
    }
   ],
   "source": [
    "plot_multiclass_roc(log_model_grid, X_test, y_test, n_classes=3, figsize=(16, 10))"
   ]
  },
  {
   "cell_type": "markdown",
   "metadata": {},
   "source": [
    "## 2. SVC"
   ]
  },
  {
   "cell_type": "code",
   "execution_count": 64,
   "metadata": {},
   "outputs": [
    {
     "name": "stdout",
     "output_type": "stream",
     "text": [
      "test scores \n",
      "--------------\n",
      "[[239   9  12]\n",
      " [  8 102  25]\n",
      " [ 14 118 627]]\n",
      "              precision    recall  f1-score   support\n",
      "\n",
      "       Black       0.92      0.92      0.92       260\n",
      "    Hispanic       0.45      0.76      0.56       135\n",
      "       White       0.94      0.83      0.88       759\n",
      "\n",
      "    accuracy                           0.84      1154\n",
      "   macro avg       0.77      0.83      0.79      1154\n",
      "weighted avg       0.88      0.84      0.85      1154\n",
      "\n"
     ]
    },
    {
     "data": {
      "image/png": "[encoded data removed]",
      "text/plain": [
       "<Figure size 432x288 with 2 Axes>"
      ]
     },
     "metadata": {
      "needs_background": "light"
     },
     "output_type": "display_data"
    }
   ],
   "source": [
    "svm_model = SVC(class_weight=\"balanced\")\n",
    "\n",
    "svm_model.fit(X_train, y_train)\n",
    "\n",
    "y_pred = svm_model.predict(X_test)\n",
    "\n",
    "print(\"test scores\",\"\\n--------------\")\n",
    "\n",
    "print(confusion_matrix(y_test, y_pred))\n",
    "print(classification_report(y_test, y_pred))\n",
    "plot_confusion_matrix(svm_model,X_train,y_train);#x"
   ]
  },
  {
   "cell_type": "code",
   "execution_count": 65,
   "metadata": {},
   "outputs": [
    {
     "name": "stdout",
     "output_type": "stream",
     "text": [
      "train scores \n",
      "--------------\n",
      "[[ 953   47   38]\n",
      " [  20  454   69]\n",
      " [  58  420 2555]]\n",
      "              precision    recall  f1-score   support\n",
      "\n",
      "       Black       0.92      0.92      0.92      1038\n",
      "    Hispanic       0.49      0.84      0.62       543\n",
      "       White       0.96      0.84      0.90      3033\n",
      "\n",
      "    accuracy                           0.86      4614\n",
      "   macro avg       0.79      0.87      0.81      4614\n",
      "weighted avg       0.90      0.86      0.87      4614\n",
      "\n"
     ]
    },
    {
     "data": {
      "image/png": "[encoded data removed]",
      "text/plain": [
       "<Figure size 432x288 with 2 Axes>"
      ]
     },
     "metadata": {
      "needs_background": "light"
     },
     "output_type": "display_data"
    }
   ],
   "source": [
    "y_pred = svm_model.predict(X_train)\n",
    "\n",
    "print(\"train scores\",\"\\n--------------\")\n",
    "\n",
    "print(confusion_matrix(y_train,y_pred))\n",
    "print(classification_report(y_train, y_pred))\n",
    "plot_confusion_matrix(svm_model,X_train,y_train);"
   ]
  },
  {
   "cell_type": "markdown",
   "metadata": {},
   "source": [
    "model = SVC('class_weight=\"balanced\"')\n",
    "scores = cross_val_score(model, X_train, y_train, cv = 5, scoring = f1_Hispanic, n_jobs = -1)\n",
    "print([round(i, 4) for i in scores], \"\\n\")\n",
    "print(f\" {i:20} : %{scores.mean()*100:.2f}, std : %{scores.std()*100:.3f} \\n\")"
   ]
  },
  {
   "cell_type": "code",
   "execution_count": 66,
   "metadata": {},
   "outputs": [
    {
     "data": {
      "application/javascript": [
       "\n",
       "        if (window._pyforest_update_imports_cell) { window._pyforest_update_imports_cell('import numpy as np\\nimport seaborn as sns\\nimport matplotlib.pyplot as plt\\nfrom sklearn.model_selection import train_test_split\\nimport pandas as pd'); }\n",
       "    "
      ],
      "text/plain": [
       "<IPython.core.display.Javascript object>"
      ]
     },
     "metadata": {},
     "output_type": "display_data"
    }
   ],
   "source": [
    "param_grid = {'C': np.linspace(200,400,5),\n",
    "              'decision_function_shape' : ['ovr','ovo'],\n",
    "              'gamma': [\"scale\", \"auto\", 1,0.1,0.01],\n",
    "              'kernel': ['rbf'],\n",
    "              'class_weight':[\"balanced\",None]}"
   ]
  },
  {
   "cell_type": "code",
   "execution_count": 67,
   "metadata": {},
   "outputs": [],
   "source": [
    "model = SVC(class_weight=\"balanced\")\n",
    "svm_model_grid = GridSearchCV(model, param_grid, verbose=3, scoring=f1_Hispanic, refit=True,n_jobs=-1)"
   ]
  },
  {
   "cell_type": "code",
   "execution_count": 68,
   "metadata": {},
   "outputs": [
    {
     "name": "stdout",
     "output_type": "stream",
     "text": [
      "Fitting 5 folds for each of 100 candidates, totalling 500 fits\n"
     ]
    },
    {
     "data": {
      "text/plain": [
       "GridSearchCV(estimator=SVC(class_weight='balanced'), n_jobs=-1,\n",
       "             param_grid={'C': array([200., 250., 300., 350., 400.]),\n",
       "                         'class_weight': ['balanced', None],\n",
       "                         'decision_function_shape': ['ovr', 'ovo'],\n",
       "                         'gamma': ['scale', 'auto', 1, 0.1, 0.01],\n",
       "                         'kernel': ['rbf']},\n",
       "             scoring=make_scorer(f1_score, average=None, labels=['Hispanic']),\n",
       "             verbose=3)"
      ]
     },
     "execution_count": 68,
     "metadata": {},
     "output_type": "execute_result"
    }
   ],
   "source": [
    "svm_model_grid.fit(X_train, y_train)"
   ]
  },
  {
   "cell_type": "code",
   "execution_count": 69,
   "metadata": {},
   "outputs": [
    {
     "data": {
      "text/plain": [
       "{'C': 400.0,\n",
       " 'class_weight': None,\n",
       " 'decision_function_shape': 'ovr',\n",
       " 'gamma': 'auto',\n",
       " 'kernel': 'rbf'}"
      ]
     },
     "execution_count": 69,
     "metadata": {},
     "output_type": "execute_result"
    }
   ],
   "source": [
    "svm_model_grid.best_params_"
   ]
  },
  {
   "cell_type": "code",
   "execution_count": 70,
   "metadata": {},
   "outputs": [
    {
     "name": "stdout",
     "output_type": "stream",
     "text": [
      "[[239   2  19]\n",
      " [  6  78  51]\n",
      " [  8  18 733]]\n",
      "              precision    recall  f1-score   support\n",
      "\n",
      "       Black       0.94      0.92      0.93       260\n",
      "    Hispanic       0.80      0.58      0.67       135\n",
      "       White       0.91      0.97      0.94       759\n",
      "\n",
      "    accuracy                           0.91      1154\n",
      "   macro avg       0.88      0.82      0.85      1154\n",
      "weighted avg       0.91      0.91      0.91      1154\n",
      "\n"
     ]
    },
    {
     "data": {
      "image/png": "[encoded data removed]",
      "text/plain": [
       "<Figure size 432x288 with 2 Axes>"
      ]
     },
     "metadata": {
      "needs_background": "light"
     },
     "output_type": "display_data"
    }
   ],
   "source": [
    "y_pred = svm_model_grid.predict(X_test)\n",
    "print(confusion_matrix(y_test, y_pred))\n",
    "print(classification_report(y_test, y_pred))\n",
    "plot_confusion_matrix(svm_model_grid,X_test,y_test);"
   ]
  },
  {
   "cell_type": "code",
   "execution_count": 71,
   "metadata": {},
   "outputs": [
    {
     "data": {
      "application/javascript": [
       "\n",
       "        if (window._pyforest_update_imports_cell) { window._pyforest_update_imports_cell('import numpy as np\\nimport seaborn as sns\\nimport matplotlib.pyplot as plt\\nfrom sklearn.model_selection import train_test_split\\nimport pandas as pd'); }\n",
       "    "
      ],
      "text/plain": [
       "<IPython.core.display.Javascript object>"
      ]
     },
     "metadata": {},
     "output_type": "display_data"
    },
    {
     "data": {
      "application/javascript": [
       "\n",
       "        if (window._pyforest_update_imports_cell) { window._pyforest_update_imports_cell('import numpy as np\\nimport seaborn as sns\\nimport matplotlib.pyplot as plt\\nfrom sklearn.model_selection import train_test_split\\nimport pandas as pd'); }\n",
       "    "
      ],
      "text/plain": [
       "<IPython.core.display.Javascript object>"
      ]
     },
     "metadata": {},
     "output_type": "display_data"
    },
    {
     "data": {
      "application/javascript": [
       "\n",
       "        if (window._pyforest_update_imports_cell) { window._pyforest_update_imports_cell('import numpy as np\\nimport seaborn as sns\\nimport matplotlib.pyplot as plt\\nfrom sklearn.model_selection import train_test_split\\nimport pandas as pd'); }\n",
       "    "
      ],
      "text/plain": [
       "<IPython.core.display.Javascript object>"
      ]
     },
     "metadata": {},
     "output_type": "display_data"
    },
    {
     "data": {
      "application/javascript": [
       "\n",
       "        if (window._pyforest_update_imports_cell) { window._pyforest_update_imports_cell('import numpy as np\\nimport seaborn as sns\\nimport matplotlib.pyplot as plt\\nfrom sklearn.model_selection import train_test_split\\nimport pandas as pd'); }\n",
       "    "
      ],
      "text/plain": [
       "<IPython.core.display.Javascript object>"
      ]
     },
     "metadata": {},
     "output_type": "display_data"
    },
    {
     "data": {
      "image/png": "[encoded data removed]",
      "text/plain": [
       "<Figure size 1152x720 with 1 Axes>"
      ]
     },
     "metadata": {
      "needs_background": "light"
     },
     "output_type": "display_data"
    }
   ],
   "source": [
    "plot_multiclass_roc(svm_model_grid, X_test, y_test, n_classes=3, figsize=(16, 10))"
   ]
  },
  {
   "cell_type": "markdown",
   "metadata": {
    "id": "bDX_iLIls74C"
   },
   "source": [
    "## 3. RF"
   ]
  },
  {
   "cell_type": "code",
   "execution_count": 72,
   "metadata": {
    "id": "uCojh6Ww2Hdi"
   },
   "outputs": [],
   "source": [
    "rf_mod = RandomForestClassifier()"
   ]
  },
  {
   "cell_type": "code",
   "execution_count": 73,
   "metadata": {
    "colab": {
     "base_uri": "https://localhost:8080/"
    },
    "id": "QxYDtICo2LgP",
    "outputId": "8763113b-6a2d-44e7-bdbc-a59efa53f458"
   },
   "outputs": [
    {
     "data": {
      "text/plain": [
       "RandomForestClassifier()"
      ]
     },
     "execution_count": 73,
     "metadata": {},
     "output_type": "execute_result"
    }
   ],
   "source": [
    "rf_mod.fit(X_train,y_train)"
   ]
  },
  {
   "cell_type": "code",
   "execution_count": 74,
   "metadata": {
    "id": "-CQmawKo2SUX"
   },
   "outputs": [
    {
     "name": "stdout",
     "output_type": "stream",
     "text": [
      "[[193   0  67]\n",
      " [  8  18 109]\n",
      " [ 12   1 746]]\n",
      "              precision    recall  f1-score   support\n",
      "\n",
      "       Black       0.91      0.74      0.82       260\n",
      "    Hispanic       0.95      0.13      0.23       135\n",
      "       White       0.81      0.98      0.89       759\n",
      "\n",
      "    accuracy                           0.83      1154\n",
      "   macro avg       0.89      0.62      0.65      1154\n",
      "weighted avg       0.85      0.83      0.79      1154\n",
      "\n"
     ]
    },
    {
     "data": {
      "image/png": "[encoded data removed]",
      "text/plain": [
       "<Figure size 432x288 with 2 Axes>"
      ]
     },
     "metadata": {
      "needs_background": "light"
     },
     "output_type": "display_data"
    }
   ],
   "source": [
    "y_pred = rf_mod.predict(X_test)\n",
    "print(confusion_matrix(y_test, y_pred))\n",
    "print(classification_report(y_test, y_pred))\n",
    "plot_confusion_matrix(rf_mod,X_test,y_test);#x"
   ]
  },
  {
   "cell_type": "code",
   "execution_count": 75,
   "metadata": {
    "id": "7ECc46Zw2aPV"
   },
   "outputs": [
    {
     "name": "stdout",
     "output_type": "stream",
     "text": [
      "[[1038    0    0]\n",
      " [   0  543    0]\n",
      " [   0    0 3033]]\n",
      "              precision    recall  f1-score   support\n",
      "\n",
      "       Black       1.00      1.00      1.00      1038\n",
      "    Hispanic       1.00      1.00      1.00       543\n",
      "       White       1.00      1.00      1.00      3033\n",
      "\n",
      "    accuracy                           1.00      4614\n",
      "   macro avg       1.00      1.00      1.00      4614\n",
      "weighted avg       1.00      1.00      1.00      4614\n",
      "\n"
     ]
    },
    {
     "data": {
      "image/png": "[encoded data removed]",
      "text/plain": [
       "<Figure size 432x288 with 2 Axes>"
      ]
     },
     "metadata": {
      "needs_background": "light"
     },
     "output_type": "display_data"
    }
   ],
   "source": [
    "y_pred = rf_mod.predict(X_train)\n",
    "print(confusion_matrix(y_train, y_pred))\n",
    "print(classification_report(y_train, y_pred))\n",
    "plot_confusion_matrix(rf_mod,X_train,y_train);"
   ]
  },
  {
   "cell_type": "code",
   "execution_count": 76,
   "metadata": {
    "colab": {
     "base_uri": "https://localhost:8080/"
    },
    "id": "4MGVCdEX2i7n",
    "outputId": "fcbdafdc-da96-4a62-be5e-8202a7439a83"
   },
   "outputs": [],
   "source": [
    "param_grid = {'n_estimators':[400,500],\n",
    "             'criterion': [\"gini\",\"entropy\"],\n",
    "             'max_depth':[10,12,14,16],\n",
    "             'min_samples_split':[18,20,22],\n",
    "             'class_weight': ['balanced',None]}"
   ]
  },
  {
   "cell_type": "code",
   "execution_count": 77,
   "metadata": {
    "colab": {
     "base_uri": "https://localhost:8080/",
     "height": 368
    },
    "id": "9D4aRhfk3jF-",
    "outputId": "723d3f18-f0f0-4174-c058-fc0d2b676104"
   },
   "outputs": [],
   "source": [
    "rf_model = RandomForestClassifier()\n",
    "rf_grid_model = GridSearchCV(rf_model, param_grid, verbose=3, scoring=f1_Hispanic, refit=True,n_jobs=-1)"
   ]
  },
  {
   "cell_type": "code",
   "execution_count": 78,
   "metadata": {},
   "outputs": [
    {
     "name": "stdout",
     "output_type": "stream",
     "text": [
      "Fitting 5 folds for each of 96 candidates, totalling 480 fits\n"
     ]
    },
    {
     "data": {
      "text/plain": [
       "GridSearchCV(estimator=RandomForestClassifier(), n_jobs=-1,\n",
       "             param_grid={'class_weight': ['balanced', None],\n",
       "                         'criterion': ['gini', 'entropy'],\n",
       "                         'max_depth': [10, 12, 14, 16],\n",
       "                         'min_samples_split': [18, 20, 22],\n",
       "                         'n_estimators': [400, 500]},\n",
       "             scoring=make_scorer(f1_score, average=None, labels=['Hispanic']),\n",
       "             verbose=3)"
      ]
     },
     "execution_count": 78,
     "metadata": {},
     "output_type": "execute_result"
    }
   ],
   "source": [
    "rf_grid_model.fit(X_train,y_train)"
   ]
  },
  {
   "cell_type": "code",
   "execution_count": 79,
   "metadata": {},
   "outputs": [
    {
     "data": {
      "text/plain": [
       "{'class_weight': 'balanced',\n",
       " 'criterion': 'gini',\n",
       " 'max_depth': 10,\n",
       " 'min_samples_split': 22,\n",
       " 'n_estimators': 400}"
      ]
     },
     "execution_count": 79,
     "metadata": {},
     "output_type": "execute_result"
    }
   ],
   "source": [
    "rf_grid_model.best_params_"
   ]
  },
  {
   "cell_type": "code",
   "execution_count": 80,
   "metadata": {},
   "outputs": [
    {
     "name": "stdout",
     "output_type": "stream",
     "text": [
      "[[212   7  41]\n",
      " [ 14  60  61]\n",
      " [ 33  68 658]]\n",
      "              precision    recall  f1-score   support\n",
      "\n",
      "       Black       0.82      0.82      0.82       260\n",
      "    Hispanic       0.44      0.44      0.44       135\n",
      "       White       0.87      0.87      0.87       759\n",
      "\n",
      "    accuracy                           0.81      1154\n",
      "   macro avg       0.71      0.71      0.71      1154\n",
      "weighted avg       0.81      0.81      0.81      1154\n",
      "\n"
     ]
    },
    {
     "data": {
      "image/png": "[encoded data removed]",
      "text/plain": [
       "<Figure size 432x288 with 2 Axes>"
      ]
     },
     "metadata": {
      "needs_background": "light"
     },
     "output_type": "display_data"
    }
   ],
   "source": [
    "y_pred = rf_grid_model.predict(X_test)\n",
    "print(confusion_matrix(y_test, y_pred))\n",
    "print(classification_report(y_test, y_pred))\n",
    "plot_confusion_matrix(rf_grid_model,X_test,y_test);"
   ]
  },
  {
   "cell_type": "code",
   "execution_count": 81,
   "metadata": {},
   "outputs": [
    {
     "data": {
      "application/javascript": [
       "\n",
       "        if (window._pyforest_update_imports_cell) { window._pyforest_update_imports_cell('import numpy as np\\nimport seaborn as sns\\nimport matplotlib.pyplot as plt\\nfrom sklearn.model_selection import train_test_split\\nimport pandas as pd'); }\n",
       "    "
      ],
      "text/plain": [
       "<IPython.core.display.Javascript object>"
      ]
     },
     "metadata": {},
     "output_type": "display_data"
    },
    {
     "data": {
      "application/javascript": [
       "\n",
       "        if (window._pyforest_update_imports_cell) { window._pyforest_update_imports_cell('import numpy as np\\nimport seaborn as sns\\nimport matplotlib.pyplot as plt\\nfrom sklearn.model_selection import train_test_split\\nimport pandas as pd'); }\n",
       "    "
      ],
      "text/plain": [
       "<IPython.core.display.Javascript object>"
      ]
     },
     "metadata": {},
     "output_type": "display_data"
    },
    {
     "data": {
      "application/javascript": [
       "\n",
       "        if (window._pyforest_update_imports_cell) { window._pyforest_update_imports_cell('import numpy as np\\nimport seaborn as sns\\nimport matplotlib.pyplot as plt\\nfrom sklearn.model_selection import train_test_split\\nimport pandas as pd'); }\n",
       "    "
      ],
      "text/plain": [
       "<IPython.core.display.Javascript object>"
      ]
     },
     "metadata": {},
     "output_type": "display_data"
    },
    {
     "data": {
      "application/javascript": [
       "\n",
       "        if (window._pyforest_update_imports_cell) { window._pyforest_update_imports_cell('import numpy as np\\nimport seaborn as sns\\nimport matplotlib.pyplot as plt\\nfrom sklearn.model_selection import train_test_split\\nimport pandas as pd'); }\n",
       "    "
      ],
      "text/plain": [
       "<IPython.core.display.Javascript object>"
      ]
     },
     "metadata": {},
     "output_type": "display_data"
    },
    {
     "data": {
      "image/png": "[encoded data removed]",
      "text/plain": [
       "<Figure size 1152x720 with 1 Axes>"
      ]
     },
     "metadata": {
      "needs_background": "light"
     },
     "output_type": "display_data"
    }
   ],
   "source": [
    "plot_multiclass_roc_for_tree(rf_grid_model, X_test, y_test, n_classes=3, figsize=(16, 10))"
   ]
  },
  {
   "cell_type": "markdown",
   "metadata": {},
   "source": [
    "## 4. XGBoost"
   ]
  },
  {
   "cell_type": "code",
   "execution_count": 82,
   "metadata": {},
   "outputs": [],
   "source": [
    "xgb_model = XGBClassifier()"
   ]
  },
  {
   "cell_type": "code",
   "execution_count": 83,
   "metadata": {},
   "outputs": [
    {
     "name": "stdout",
     "output_type": "stream",
     "text": [
      "[22:56:49] WARNING: C:/Users/Administrator/workspace/xgboost-win64_release_1.5.0/src/learner.cc:1115: Starting in XGBoost 1.3.0, the default evaluation metric used with the objective 'multi:softprob' was changed from 'merror' to 'mlogloss'. Explicitly set eval_metric if you'd like to restore the old behavior.\n"
     ]
    },
    {
     "data": {
      "text/plain": [
       "XGBClassifier(base_score=0.5, booster='gbtree', colsample_bylevel=1,\n",
       "              colsample_bynode=1, colsample_bytree=1, enable_categorical=False,\n",
       "              gamma=0, gpu_id=-1, importance_type=None,\n",
       "              interaction_constraints='', learning_rate=0.300000012,\n",
       "              max_delta_step=0, max_depth=6, min_child_weight=1, missing=nan,\n",
       "              monotone_constraints='()', n_estimators=100, n_jobs=8,\n",
       "              num_parallel_tree=1, objective='multi:softprob', predictor='auto',\n",
       "              random_state=0, reg_alpha=0, reg_lambda=1, scale_pos_weight=None,\n",
       "              subsample=1, tree_method='exact', validate_parameters=1,\n",
       "              verbosity=None)"
      ]
     },
     "execution_count": 83,
     "metadata": {},
     "output_type": "execute_result"
    }
   ],
   "source": [
    "xgb_model.fit(X_train,y_train)\n"
   ]
  },
  {
   "cell_type": "code",
   "execution_count": 84,
   "metadata": {},
   "outputs": [
    {
     "name": "stdout",
     "output_type": "stream",
     "text": [
      "[[219   0  41]\n",
      " [  9  60  66]\n",
      " [ 14  11 734]]\n",
      "              precision    recall  f1-score   support\n",
      "\n",
      "       Black       0.90      0.84      0.87       260\n",
      "    Hispanic       0.85      0.44      0.58       135\n",
      "       White       0.87      0.97      0.92       759\n",
      "\n",
      "    accuracy                           0.88      1154\n",
      "   macro avg       0.87      0.75      0.79      1154\n",
      "weighted avg       0.88      0.88      0.87      1154\n",
      "\n"
     ]
    },
    {
     "data": {
      "image/png": "[encoded data removed]",
      "text/plain": [
       "<Figure size 432x288 with 2 Axes>"
      ]
     },
     "metadata": {
      "needs_background": "light"
     },
     "output_type": "display_data"
    }
   ],
   "source": [
    "y_pred = xgb_model.predict(X_test)\n",
    "print(confusion_matrix(y_test, y_pred))\n",
    "print(classification_report(y_test, y_pred))\n",
    "plot_confusion_matrix(xgb_model,X_test,y_test);#x"
   ]
  },
  {
   "cell_type": "code",
   "execution_count": 85,
   "metadata": {},
   "outputs": [
    {
     "name": "stdout",
     "output_type": "stream",
     "text": [
      "[[1038    0    0]\n",
      " [   0  543    0]\n",
      " [   0    0 3033]]\n",
      "              precision    recall  f1-score   support\n",
      "\n",
      "       Black       1.00      1.00      1.00      1038\n",
      "    Hispanic       1.00      1.00      1.00       543\n",
      "       White       1.00      1.00      1.00      3033\n",
      "\n",
      "    accuracy                           1.00      4614\n",
      "   macro avg       1.00      1.00      1.00      4614\n",
      "weighted avg       1.00      1.00      1.00      4614\n",
      "\n"
     ]
    },
    {
     "data": {
      "image/png": "[encoded data removed]",
      "text/plain": [
       "<Figure size 432x288 with 2 Axes>"
      ]
     },
     "metadata": {
      "needs_background": "light"
     },
     "output_type": "display_data"
    }
   ],
   "source": [
    "y_pred = xgb_model.predict(X_train)\n",
    "print(confusion_matrix(y_train, y_pred))\n",
    "print(classification_report(y_train, y_pred))\n",
    "plot_confusion_matrix(xgb_model,X_train,y_train);"
   ]
  },
  {
   "cell_type": "code",
   "execution_count": 86,
   "metadata": {},
   "outputs": [
    {
     "data": {
      "text/plain": [
       "array([0.50708869, 0.50708869, 0.50708869, ..., 0.50708869, 0.50708869,\n",
       "       2.83241252])"
      ]
     },
     "execution_count": 86,
     "metadata": {},
     "output_type": "execute_result"
    }
   ],
   "source": [
    "from sklearn.utils import class_weight\n",
    "classes_weights = class_weight.compute_sample_weight(class_weight='balanced', y=y_train)\n",
    "classes_weights"
   ]
  },
  {
   "cell_type": "code",
   "execution_count": 87,
   "metadata": {},
   "outputs": [
    {
     "data": {
      "application/javascript": [
       "\n",
       "        if (window._pyforest_update_imports_cell) { window._pyforest_update_imports_cell('import numpy as np\\nimport seaborn as sns\\nimport matplotlib.pyplot as plt\\nfrom sklearn.model_selection import train_test_split\\nimport pandas as pd'); }\n",
       "    "
      ],
      "text/plain": [
       "<IPython.core.display.Javascript object>"
      ]
     },
     "metadata": {},
     "output_type": "display_data"
    },
    {
     "data": {
      "text/plain": [
       "label     0       \n",
       "Black     1.481696    1038\n",
       "Hispanic  2.832413     543\n",
       "White     0.507089    3033\n",
       "Name: 0, dtype: int64"
      ]
     },
     "execution_count": 87,
     "metadata": {},
     "output_type": "execute_result"
    }
   ],
   "source": [
    "comp = pd.DataFrame(classes_weights)\n",
    "\n",
    "comp[\"label\"]= y_train.reset_index(drop=True)\n",
    "comp.groupby(\"label\")[0].value_counts()"
   ]
  },
  {
   "cell_type": "code",
   "execution_count": 88,
   "metadata": {},
   "outputs": [],
   "source": [
    "param_grid = {\"n_estimators\":[100, 300],\n",
    "              'max_depth':[3,5,6],\n",
    "              \"learning_rate\": [0.1, 0.3],\n",
    "              \"subsample\":[0.5, 1],\n",
    "              \"colsample_bytree\":[0.5, 1]}"
   ]
  },
  {
   "cell_type": "code",
   "execution_count": 89,
   "metadata": {},
   "outputs": [
    {
     "name": "stdout",
     "output_type": "stream",
     "text": [
      "Fitting 5 folds for each of 48 candidates, totalling 240 fits\n",
      "[23:16:38] WARNING: C:/Users/Administrator/workspace/xgboost-win64_release_1.5.0/src/learner.cc:1115: Starting in XGBoost 1.3.0, the default evaluation metric used with the objective 'multi:softprob' was changed from 'merror' to 'mlogloss'. Explicitly set eval_metric if you'd like to restore the old behavior.\n"
     ]
    }
   ],
   "source": [
    "xgb_model = XGBClassifier()\n",
    "xgb_grid_model = GridSearchCV(xgb_model, param_grid, scoring=f1_Hispanic, n_jobs = -1,refit=True, verbose = 2).fit(X_train, y_train)"
   ]
  },
  {
   "cell_type": "code",
   "execution_count": 90,
   "metadata": {},
   "outputs": [
    {
     "data": {
      "text/plain": [
       "{'colsample_bytree': 0.5,\n",
       " 'learning_rate': 0.3,\n",
       " 'max_depth': 3,\n",
       " 'n_estimators': 100,\n",
       " 'subsample': 1}"
      ]
     },
     "execution_count": 90,
     "metadata": {},
     "output_type": "execute_result"
    }
   ],
   "source": [
    "xgb_grid_model.best_params_"
   ]
  },
  {
   "cell_type": "code",
   "execution_count": 91,
   "metadata": {},
   "outputs": [
    {
     "name": "stdout",
     "output_type": "stream",
     "text": [
      "[[222   0  38]\n",
      " [  9  63  63]\n",
      " [ 11  16 732]]\n",
      "              precision    recall  f1-score   support\n",
      "\n",
      "       Black       0.92      0.85      0.88       260\n",
      "    Hispanic       0.80      0.47      0.59       135\n",
      "       White       0.88      0.96      0.92       759\n",
      "\n",
      "    accuracy                           0.88      1154\n",
      "   macro avg       0.86      0.76      0.80      1154\n",
      "weighted avg       0.88      0.88      0.87      1154\n",
      "\n"
     ]
    },
    {
     "data": {
      "image/png": "[encoded data removed]",
      "text/plain": [
       "<Figure size 432x288 with 2 Axes>"
      ]
     },
     "metadata": {
      "needs_background": "light"
     },
     "output_type": "display_data"
    }
   ],
   "source": [
    "y_pred = xgb_grid_model.predict(X_test)\n",
    "print(confusion_matrix(y_test, y_pred))\n",
    "print(classification_report(y_test, y_pred))\n",
    "plot_confusion_matrix(xgb_grid_model,X_test,y_test);"
   ]
  },
  {
   "cell_type": "code",
   "execution_count": 92,
   "metadata": {},
   "outputs": [
    {
     "data": {
      "application/javascript": [
       "\n",
       "        if (window._pyforest_update_imports_cell) { window._pyforest_update_imports_cell('import numpy as np\\nimport seaborn as sns\\nimport matplotlib.pyplot as plt\\nfrom sklearn.model_selection import train_test_split\\nimport pandas as pd'); }\n",
       "    "
      ],
      "text/plain": [
       "<IPython.core.display.Javascript object>"
      ]
     },
     "metadata": {},
     "output_type": "display_data"
    },
    {
     "data": {
      "application/javascript": [
       "\n",
       "        if (window._pyforest_update_imports_cell) { window._pyforest_update_imports_cell('import numpy as np\\nimport seaborn as sns\\nimport matplotlib.pyplot as plt\\nfrom sklearn.model_selection import train_test_split\\nimport pandas as pd'); }\n",
       "    "
      ],
      "text/plain": [
       "<IPython.core.display.Javascript object>"
      ]
     },
     "metadata": {},
     "output_type": "display_data"
    },
    {
     "data": {
      "application/javascript": [
       "\n",
       "        if (window._pyforest_update_imports_cell) { window._pyforest_update_imports_cell('import numpy as np\\nimport seaborn as sns\\nimport matplotlib.pyplot as plt\\nfrom sklearn.model_selection import train_test_split\\nimport pandas as pd'); }\n",
       "    "
      ],
      "text/plain": [
       "<IPython.core.display.Javascript object>"
      ]
     },
     "metadata": {},
     "output_type": "display_data"
    },
    {
     "data": {
      "application/javascript": [
       "\n",
       "        if (window._pyforest_update_imports_cell) { window._pyforest_update_imports_cell('import numpy as np\\nimport seaborn as sns\\nimport matplotlib.pyplot as plt\\nfrom sklearn.model_selection import train_test_split\\nimport pandas as pd'); }\n",
       "    "
      ],
      "text/plain": [
       "<IPython.core.display.Javascript object>"
      ]
     },
     "metadata": {},
     "output_type": "display_data"
    },
    {
     "data": {
      "image/png": "[encoded data removed]",
      "text/plain": [
       "<Figure size 1152x720 with 1 Axes>"
      ]
     },
     "metadata": {
      "needs_background": "light"
     },
     "output_type": "display_data"
    }
   ],
   "source": [
    "plot_multiclass_roc_for_tree(xgb_grid_model, X_test, y_test, n_classes=3, figsize=(16, 10))"
   ]
  },
  {
   "cell_type": "markdown",
   "metadata": {
    "id": "DbXAmOPVDatl"
   },
   "source": [
    "---\n",
    "---"
   ]
  },
  {
   "cell_type": "markdown",
   "metadata": {},
   "source": [
    "## Prediction"
   ]
  },
  {
   "cell_type": "code",
   "execution_count": 93,
   "metadata": {},
   "outputs": [
    {
     "data": {
      "text/plain": [
       "abdominalextensiondepthsitting      247.255374\n",
       "acromialheight                     1408.621012\n",
       "acromionradialelength               328.071429\n",
       "anklecircumference                  225.200936\n",
       "axillaheight                       1301.897018\n",
       "                                      ...     \n",
       "SubjectsBirthLocation_Wisconsin       0.017164\n",
       "SubjectsBirthLocation_Wyoming         0.001214\n",
       "SubjectsBirthLocation_Zambia          0.000173\n",
       "WritingPreference_Left hand           0.107836\n",
       "WritingPreference_Right hand          0.881935\n",
       "Name: mean, Length: 236, dtype: float64"
      ]
     },
     "execution_count": 93,
     "metadata": {},
     "output_type": "execute_result"
    }
   ],
   "source": [
    "X.describe().loc[\"mean\"]"
   ]
  },
  {
   "cell_type": "code",
   "execution_count": 94,
   "metadata": {},
   "outputs": [
    {
     "data": {
      "application/javascript": [
       "\n",
       "        if (window._pyforest_update_imports_cell) { window._pyforest_update_imports_cell('import numpy as np\\nimport seaborn as sns\\nimport matplotlib.pyplot as plt\\nfrom sklearn.model_selection import train_test_split\\nimport pandas as pd'); }\n",
       "    "
      ],
      "text/plain": [
       "<IPython.core.display.Javascript object>"
      ]
     },
     "metadata": {},
     "output_type": "display_data"
    },
    {
     "data": {
      "text/html": [
       "<div>\n",
       "<style scoped>\n",
       "    .dataframe tbody tr th:only-of-type {\n",
       "        vertical-align: middle;\n",
       "    }\n",
       "\n",
       "    .dataframe tbody tr th {\n",
       "        vertical-align: top;\n",
       "    }\n",
       "\n",
       "    .dataframe thead th {\n",
       "        text-align: right;\n",
       "    }\n",
       "</style>\n",
       "<table border=\"1\" class=\"dataframe\">\n",
       "  <thead>\n",
       "    <tr style=\"text-align: right;\">\n",
       "      <th></th>\n",
       "      <th>abdominalextensiondepthsitting</th>\n",
       "      <th>acromialheight</th>\n",
       "      <th>acromionradialelength</th>\n",
       "      <th>anklecircumference</th>\n",
       "      <th>axillaheight</th>\n",
       "      <th>balloffootcircumference</th>\n",
       "      <th>balloffootlength</th>\n",
       "      <th>biacromialbreadth</th>\n",
       "      <th>bicepscircumferenceflexed</th>\n",
       "      <th>bicristalbreadth</th>\n",
       "      <th>...</th>\n",
       "      <th>SubjectsBirthLocation_Venezuela</th>\n",
       "      <th>SubjectsBirthLocation_Vermont</th>\n",
       "      <th>SubjectsBirthLocation_Virginia</th>\n",
       "      <th>SubjectsBirthLocation_Washington</th>\n",
       "      <th>SubjectsBirthLocation_West Virginia</th>\n",
       "      <th>SubjectsBirthLocation_Wisconsin</th>\n",
       "      <th>SubjectsBirthLocation_Wyoming</th>\n",
       "      <th>SubjectsBirthLocation_Zambia</th>\n",
       "      <th>WritingPreference_Left hand</th>\n",
       "      <th>WritingPreference_Right hand</th>\n",
       "    </tr>\n",
       "  </thead>\n",
       "  <tbody>\n",
       "    <tr>\n",
       "      <th>200</th>\n",
       "      <td>254</td>\n",
       "      <td>1389</td>\n",
       "      <td>342</td>\n",
       "      <td>220</td>\n",
       "      <td>1289</td>\n",
       "      <td>246</td>\n",
       "      <td>215</td>\n",
       "      <td>444</td>\n",
       "      <td>375</td>\n",
       "      <td>256</td>\n",
       "      <td>...</td>\n",
       "      <td>0</td>\n",
       "      <td>0</td>\n",
       "      <td>1</td>\n",
       "      <td>0</td>\n",
       "      <td>0</td>\n",
       "      <td>0</td>\n",
       "      <td>0</td>\n",
       "      <td>0</td>\n",
       "      <td>0</td>\n",
       "      <td>0</td>\n",
       "    </tr>\n",
       "  </tbody>\n",
       "</table>\n",
       "<p>1 rows × 236 columns</p>\n",
       "</div>"
      ],
      "text/plain": [
       "     abdominalextensiondepthsitting  acromialheight  acromionradialelength  \\\n",
       "200                             254            1389                    342   \n",
       "\n",
       "     anklecircumference  axillaheight  balloffootcircumference  \\\n",
       "200                 220          1289                      246   \n",
       "\n",
       "     balloffootlength  biacromialbreadth  bicepscircumferenceflexed  \\\n",
       "200               215                444                        375   \n",
       "\n",
       "     bicristalbreadth  ...  SubjectsBirthLocation_Venezuela  \\\n",
       "200               256  ...                                0   \n",
       "\n",
       "     SubjectsBirthLocation_Vermont  SubjectsBirthLocation_Virginia  \\\n",
       "200                              0                               1   \n",
       "\n",
       "     SubjectsBirthLocation_Washington  SubjectsBirthLocation_West Virginia  \\\n",
       "200                                 0                                    0   \n",
       "\n",
       "     SubjectsBirthLocation_Wisconsin  SubjectsBirthLocation_Wyoming  \\\n",
       "200                                0                              0   \n",
       "\n",
       "     SubjectsBirthLocation_Zambia  WritingPreference_Left hand  \\\n",
       "200                             0                            0   \n",
       "\n",
       "     WritingPreference_Right hand  \n",
       "200                             0  \n",
       "\n",
       "[1 rows x 236 columns]"
      ]
     },
     "execution_count": 94,
     "metadata": {},
     "output_type": "execute_result"
    }
   ],
   "source": [
    "a = pd.DataFrame(X.iloc[200]).T#x\n",
    "a"
   ]
  },
  {
   "cell_type": "code",
   "execution_count": 95,
   "metadata": {},
   "outputs": [
    {
     "data": {
      "application/javascript": [
       "\n",
       "        if (window._pyforest_update_imports_cell) { window._pyforest_update_imports_cell('import numpy as np\\nimport seaborn as sns\\nimport matplotlib.pyplot as plt\\nfrom sklearn.model_selection import train_test_split\\nimport pandas as pd'); }\n",
       "    "
      ],
      "text/plain": [
       "<IPython.core.display.Javascript object>"
      ]
     },
     "metadata": {},
     "output_type": "display_data"
    }
   ],
   "source": [
    "a = pd.get_dummies(a)"
   ]
  },
  {
   "cell_type": "code",
   "execution_count": 96,
   "metadata": {},
   "outputs": [],
   "source": [
    "a = scaler.transform(a)\n",
    "\n",
    "X_scaled = scaler.fit_transform(X)"
   ]
  },
  {
   "cell_type": "markdown",
   "metadata": {},
   "source": [
    "{'C': 400.0,\n",
    " 'class_weight': None,\n",
    " 'decision_function_shape': 'ovr',\n",
    " 'gamma': 'auto',\n",
    " 'kernel': 'rbf'}"
   ]
  },
  {
   "cell_type": "code",
   "execution_count": 97,
   "metadata": {},
   "outputs": [],
   "source": [
    "final_model = SVC(C=400,class_weight=None,decision_function_shape=\"ovr\", gamma=\"auto\",kernel=\"rbf\" ).fit(X_scaled,y)"
   ]
  },
  {
   "cell_type": "code",
   "execution_count": 98,
   "metadata": {},
   "outputs": [
    {
     "data": {
      "text/plain": [
       "array(['Black'], dtype=object)"
      ]
     },
     "execution_count": 98,
     "metadata": {},
     "output_type": "execute_result"
    }
   ],
   "source": [
    "final_model.predict(X.describe().loc[\"mean\"].values.reshape(1,-1))"
   ]
  },
  {
   "cell_type": "code",
   "execution_count": 99,
   "metadata": {},
   "outputs": [
    {
     "data": {
      "text/plain": [
       "'Black'"
      ]
     },
     "execution_count": 99,
     "metadata": {},
     "output_type": "execute_result"
    }
   ],
   "source": [
    "y[200]"
   ]
  },
  {
   "cell_type": "markdown",
   "metadata": {},
   "source": [
    "# SMOTE"
   ]
  },
  {
   "cell_type": "code",
   "execution_count": 100,
   "metadata": {},
   "outputs": [
    {
     "ename": "ModuleNotFoundError",
     "evalue": "No module named 'imblearn'",
     "output_type": "error",
     "traceback": [
      "\u001b[1;31m---------------------------------------------------------------------------\u001b[0m",
      "\u001b[1;31mModuleNotFoundError\u001b[0m                       Traceback (most recent call last)",
      "\u001b[1;32m~\\anaconda3\\lib\\site-packages\\pyforest\\__init__.py\u001b[0m in \u001b[0;36m<module>\u001b[1;34m\u001b[0m\n\u001b[1;32m----> 1\u001b[1;33m \u001b[1;32mfrom\u001b[0m \u001b[0mimblearn\u001b[0m\u001b[1;33m.\u001b[0m\u001b[0mover_sampling\u001b[0m \u001b[1;32mimport\u001b[0m \u001b[0mSMOTE\u001b[0m\u001b[1;33m\u001b[0m\u001b[1;33m\u001b[0m\u001b[0m\n\u001b[0m\u001b[0;32m      2\u001b[0m \u001b[1;32mfrom\u001b[0m \u001b[0mimblearn\u001b[0m\u001b[1;33m.\u001b[0m\u001b[0munder_sampling\u001b[0m \u001b[1;32mimport\u001b[0m \u001b[0mRandomUnderSampler\u001b[0m\u001b[1;33m\u001b[0m\u001b[1;33m\u001b[0m\u001b[0m\n\u001b[0;32m      3\u001b[0m \u001b[1;32mfrom\u001b[0m \u001b[0mimblearn\u001b[0m\u001b[1;33m.\u001b[0m\u001b[0mpipeline\u001b[0m \u001b[1;32mimport\u001b[0m \u001b[0mPipeline\u001b[0m\u001b[1;33m\u001b[0m\u001b[1;33m\u001b[0m\u001b[0m\n",
      "\u001b[1;31mModuleNotFoundError\u001b[0m: No module named 'imblearn'"
     ]
    }
   ],
   "source": [
    "from imblearn.over_sampling import SMOTE\n",
    "from imblearn.under_sampling import RandomUnderSampler\n",
    "from imblearn.pipeline import Pipeline"
   ]
  },
  {
   "cell_type": "code",
   "execution_count": null,
   "metadata": {},
   "outputs": [],
   "source": [
    "over = SMOTE(sampling_strategy={\"Hispanic\": 1250})\n",
    "under = RandomUnderSampler(sampling_strategy={\"White\":2800})\n",
    "steps = [('o', over), ('u', under)]\n",
    "pipeline = Pipeline(steps=steps)\n",
    "X_resampled, y_resampled = pipeline.fit_resample(X_train, y_train)"
   ]
  },
  {
   "cell_type": "code",
   "execution_count": null,
   "metadata": {},
   "outputs": [],
   "source": [
    "#from imblearn.combine import SMOTEENN,SMOTETomek\n",
    "#ros1 = SMOTETomek()\n",
    "#ros2 = SMOTEENN()\n",
    "#X_resampled, y_resampled = ros1.fit_resample(X_train, y_train)\n"
   ]
  },
  {
   "cell_type": "code",
   "execution_count": null,
   "metadata": {},
   "outputs": [],
   "source": [
    "# X_resampled, y_resampled = ros2.fit_resample(X_resampled, y_resampled)"
   ]
  },
  {
   "cell_type": "code",
   "execution_count": null,
   "metadata": {},
   "outputs": [],
   "source": [
    "y_resampled.value_counts()"
   ]
  },
  {
   "cell_type": "code",
   "execution_count": null,
   "metadata": {},
   "outputs": [],
   "source": [
    "y_train.value_counts()"
   ]
  },
  {
   "cell_type": "markdown",
   "metadata": {},
   "source": [
    "## SVC OVER/UNDER SAMPLING"
   ]
  },
  {
   "cell_type": "code",
   "execution_count": null,
   "metadata": {},
   "outputs": [],
   "source": [
    "param_grid = {'C': np.linspace(50,200,4),\n",
    "              'decision_function_shape' : ['ovr'], #'ovo'\n",
    "              'gamma': [\"scale\", \"auto\", 1,2],\n",
    "              'kernel': ['rbf'],\n",
    "              'class_weight':[\"balanced\",None]}"
   ]
  },
  {
   "cell_type": "code",
   "execution_count": null,
   "metadata": {},
   "outputs": [],
   "source": [
    "f1_Hispanic =  make_scorer(f1_score, average=None, labels = [\"Hispanic\"])\n",
    "f1_score_weighed = make_scorer(f1_score, average=\"weighted\")"
   ]
  },
  {
   "cell_type": "code",
   "execution_count": null,
   "metadata": {},
   "outputs": [],
   "source": [
    "model = SVC()\n",
    "svm_model_grid = GridSearchCV(model, param_grid, verbose=1, scoring=f1_score_weighed, refit=True,n_jobs=-1)"
   ]
  },
  {
   "cell_type": "code",
   "execution_count": null,
   "metadata": {},
   "outputs": [],
   "source": [
    "svm_model_grid.fit(X_resampled, y_resampled)"
   ]
  },
  {
   "cell_type": "code",
   "execution_count": null,
   "metadata": {},
   "outputs": [],
   "source": [
    "svm_model_grid.best_params_"
   ]
  },
  {
   "cell_type": "code",
   "execution_count": null,
   "metadata": {},
   "outputs": [],
   "source": [
    "y_pred = svm_model_grid.predict(X_test)\n",
    "print(confusion_matrix(y_test, y_pred))\n",
    "print(classification_report(y_test, y_pred))\n",
    "plot_confusion_matrix(svm_model_grid,X_test,y_test);"
   ]
  },
  {
   "cell_type": "code",
   "execution_count": null,
   "metadata": {},
   "outputs": [],
   "source": [
    "plot_multiclass_roc(svm_model_grid, X_test, y_test, n_classes=3, figsize=(16, 10))"
   ]
  },
  {
   "cell_type": "markdown",
   "metadata": {},
   "source": [
    "## Xgboost Over/ Under Sampling"
   ]
  },
  {
   "cell_type": "code",
   "execution_count": null,
   "metadata": {},
   "outputs": [],
   "source": [
    "param_grid = {\"n_estimators\":[100, 300],\n",
    "              'max_depth':[6,8],\n",
    "              \"learning_rate\": [0.1, 0.3],\n",
    "              \"subsample\":[0.5],\n",
    "              \"colsample_bytree\":[0.5, 1]}"
   ]
  },
  {
   "cell_type": "code",
   "execution_count": null,
   "metadata": {},
   "outputs": [],
   "source": [
    "xgb_model = XGBClassifier()\n",
    "xgb_grid_model = GridSearchCV(xgb_model, param_grid, scoring=f1_Hispanic, n_jobs = -1,refit=True, verbose = 2).fit(X_resampled, y_resampled)"
   ]
  },
  {
   "cell_type": "code",
   "execution_count": null,
   "metadata": {},
   "outputs": [],
   "source": [
    "xgb_grid_model.best_params_"
   ]
  },
  {
   "cell_type": "code",
   "execution_count": null,
   "metadata": {},
   "outputs": [],
   "source": [
    "y_pred = xgb_grid_model.predict(X_test)\n",
    "print(confusion_matrix(y_test, y_pred))\n",
    "print(classification_report(y_test, y_pred))\n",
    "plot_confusion_matrix(xgb_grid_model,X_test,y_test);"
   ]
  },
  {
   "cell_type": "code",
   "execution_count": null,
   "metadata": {},
   "outputs": [],
   "source": [
    "from sklearn.metrics import matthews_corrcoef\n",
    "\n",
    "matthews_corrcoef(y_test, y_pred)"
   ]
  },
  {
   "cell_type": "code",
   "execution_count": null,
   "metadata": {},
   "outputs": [],
   "source": [
    "from sklearn.metrics import cohen_kappa_score\n",
    "\n",
    "cohen_kappa_score(y_test, y_pred)"
   ]
  },
  {
   "cell_type": "code",
   "execution_count": null,
   "metadata": {},
   "outputs": [],
   "source": [
    "plot_multiclass_roc_for_tree(xgb_grid_model, X_test, y_test, n_classes=3, figsize=(16, 10))"
   ]
  }
 ],
 "metadata": {
  "colab": {
   "name": "soldier_assignment.ipynb",
   "provenance": []
  },
  "interpreter": {
   "hash": "e4e90950cb561445fc7289d5187c528b28750a487d008a70b474c773afaf79b7"
  },
  "kernelspec": {
   "display_name": "Python 3",
   "language": "python",
   "name": "python3"
  },
  "language_info": {
   "codemirror_mode": {
    "name": "ipython",
    "version": 3
   },
   "file_extension": ".py",
   "mimetype": "text/x-python",
   "name": "python",
   "nbconvert_exporter": "python",
   "pygments_lexer": "ipython3",
   "version": "3.8.8"
  }
 },
 "nbformat": 4,
 "nbformat_minor": 4
}
